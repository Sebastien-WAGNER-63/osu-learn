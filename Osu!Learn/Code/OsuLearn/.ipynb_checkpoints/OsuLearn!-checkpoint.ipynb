{
 "cells": [
  {
   "cell_type": "code",
   "execution_count": 1,
   "metadata": {},
   "outputs": [],
   "source": [
    "import matplotlib.pyplot as plt\n",
    "import tensorflow as tf\n",
    "import numpy as np\n",
    "import pandas as pd\n",
    "import sys\n",
    "import win32gui\n",
    "import time\n",
    "from pynput.mouse import Controller "
   ]
  },
  {
   "cell_type": "code",
   "execution_count": 2,
   "metadata": {},
   "outputs": [],
   "source": [
    "#Fonctions utiles\n",
    "def recupCercle():\n",
    "    return;\n",
    "\n",
    "def recupScore():\n",
    "    return;\n",
    "\n",
    "#fonction qui retourne un tuple contenant les positions de la fenêtre du jeu\n",
    "def position():\n",
    "    #récupère \"l'identifiant\" de la fenêtre nommée osu!\n",
    "    window_handle = win32gui.FindWindow(None, \"osu!\")\n",
    "    #si l'indentifiant est différent de 0 (si 0 il n'existe pas) et que la classe de la fenêtre est une application (car peut être une autre fenêtre nommée osu!)\n",
    "    if window_handle!=0 and win32gui.GetClassName(window_handle)[0:28] == \"WindowsForms10.Window.2b.app\":\n",
    "        #retourne la position de la fenêtre et 0 comme code de retour\n",
    "        return win32gui.GetWindowRect(window_handle),0\n",
    "    #sinon retourne les coordonnée innexactes et -1 en code d'erreur\n",
    "    return win32gui.GetWindowRect(window_handle),-1\n",
    "\n",
    "#fonction de vérification de position de la souris x,y -> Position du curseur / xF_g,yF_g -> position en haut à gauche de la fenêtre / xF_d,yF_d -> position en bas à droite de la fenêtre\n",
    "def isSortie(x,y):\n",
    "    #Si le curseur est sorti de la fenêtre je return False sinon je return True\n",
    "    return x < 0 or x > 800 or y < 0 or y > 600\n",
    "\n",
    "#fonction qui traduit les coordonnée relative à la fenêtre en coordonnée relative à l'écran\n",
    "def viser(xF_g,yF_g,xV,yV):\n",
    "        return xV+xF_g+2,yV+yF_g+26\n",
    "\n",
    "#fonction de clique\n",
    "def cliquer():\n",
    "    if isClic:\n",
    "        souris.release(Button.left)\n",
    "        isClic = False\n",
    "    else :\n",
    "        souris.press(Button.left)\n",
    "        isClic = True\n",
    "\n",
    "#fonction clic\n",
    "def clic(x,y):\n",
    "    \n",
    "    cliquer();"
   ]
  },
  {
   "cell_type": "code",
   "execution_count": 15,
   "metadata": {},
   "outputs": [],
   "source": [
    "def testCercle(c):\n",
    "    if(c is None):\n",
    "        print(\"Erreur: cercle non reçu (recupCercle)\");\n",
    "        return -1;\n",
    "    if(c[2]==-1):\n",
    "        print(\"Erreur: cercle non valide (recupCercle)\");\n",
    "        return -1;\n",
    "    return 0;"
   ]
  },
  {
   "cell_type": "code",
   "execution_count": 3,
   "metadata": {},
   "outputs": [],
   "source": [
    "#Création du model\n",
    "model = tf.keras.models.Sequential()\n",
    "\n",
    "#Ajout de couche\n",
    "model.add(tf.keras.layers.Dense(3))#Première couche\n",
    "model.add(tf.keras.layers.Dense(9))\n",
    "model.add(tf.keras.layers.Dense(9))\n",
    "model.add(tf.keras.layers.Dense(3))#Dernière couche\n",
    "\n",
    "\n",
    "#Renvois: [bool,x,y]"
   ]
  },
  {
   "cell_type": "code",
   "execution_count": 17,
   "metadata": {},
   "outputs": [
    {
     "name": "stdout",
     "output_type": "stream",
     "text": [
      "Erreur: cercle non valide (recupCercle)\n"
     ]
    }
   ],
   "source": [
    "#AlgoFinal\n",
    "cercle=[0,0,-1];\n",
    "while(True):\n",
    "    #cercle=recupCercle();\n",
    "    if(testCercle(cercle)==-1):\n",
    "        break;\n",
    "    action=[True,500,600];#appel IA\n",
    "    if(action[0]):\n",
    "        clic(action[1],action[2]);\n",
    "    \n",
    "    #On reset le rayon du cercle pour les tests de récupération de cercle.\n",
    "    cercle[2]=-1;"
   ]
  },
  {
   "cell_type": "code",
   "execution_count": null,
   "metadata": {},
   "outputs": [],
   "source": []
  }
 ],
 "metadata": {
  "kernelspec": {
   "display_name": "Python 3",
   "language": "python",
   "name": "python3"
  },
  "language_info": {
   "codemirror_mode": {
    "name": "ipython",
    "version": 3
   },
   "file_extension": ".py",
   "mimetype": "text/x-python",
   "name": "python",
   "nbconvert_exporter": "python",
   "pygments_lexer": "ipython3",
   "version": "3.8.3"
  }
 },
 "nbformat": 4,
 "nbformat_minor": 4
}
