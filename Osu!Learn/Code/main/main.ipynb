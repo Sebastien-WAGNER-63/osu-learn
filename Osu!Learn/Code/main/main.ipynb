{
 "cells": [
  {
   "cell_type": "markdown",
   "metadata": {},
   "source": [
    "### Ceci est le fichier principal, pour l'instant il regroupe toutes les fonctions et le main"
   ]
  },
  {
   "cell_type": "code",
   "execution_count": 19,
   "metadata": {},
   "outputs": [],
   "source": [
    "#import\n",
    "import matplotlib.pyplot as plt\n",
    "import tensorflow as tf\n",
    "import numpy as np\n",
    "import pandas as pd\n",
    "import win32gui\n",
    "import time\n",
    "from pynput.mouse import Controller, Button\n",
    "import random\n",
    "import socket\n",
    "import sys, os\n",
    "import matplotlib.pyplot as plt\n",
    "from tensorflow import keras\n",
    "import PIL\n",
    "from PIL import Image\n",
    "from PIL import ImageDraw\n",
    "from PIL import ImageGrab\n",
    "sys.path.append('..')\n",
    "from utilitaire.imgAiTrainer.imgAiTrainer import Trainer\n",
    "import win32gui as wingui\n",
    "import re\n",
    "\n",
    "tr = Trainer()\n",
    "Max=10\n",
    "limite=20"
   ]
  },
  {
   "cell_type": "markdown",
   "metadata": {},
   "source": [
    "### Fonctions pour cliquer"
   ]
  },
  {
   "cell_type": "code",
   "execution_count": 20,
   "metadata": {},
   "outputs": [],
   "source": [
    "#fonction de vérification de position de la souris x,y -> Position du curseur / xF_g,yF_g -> position en haut à gauche de la fenêtre / xF_d,yF_d -> position en bas à droite de la fenêtre\n",
    "def isSortie(x,y):\n",
    "    #Si le curseur est sorti de la fenêtre je return False sinon je return True\n",
    "    return x < 0 or x > 800 or y < 0 or y > 600\n",
    "\n",
    "#fonction qui traduit les coordonnée relative à la fenêtre en coordonnée relative à l'écran\n",
    "def viser(xF_g,yF_d,xV,yV):\n",
    "        mouse.position=(xV+xF_g+2,yV+yF_d)\n",
    "\n",
    "#fonction de clique\n",
    "def cliquer():\n",
    "    mouse.press(Button.left)\n",
    "    mouse.release(Button.left)"
   ]
  },
  {
   "cell_type": "markdown",
   "metadata": {},
   "source": [
    "### Fonctions pour récupérer l'image du jeu"
   ]
  },
  {
   "cell_type": "code",
   "execution_count": 33,
   "metadata": {},
   "outputs": [],
   "source": [
    "#### Fonctions pour récupérer l'image du jeu\n",
    "#retourne la position de la fenêtre d'Osu\n",
    "def position():\n",
    "    def callback(handle, data):\n",
    "        if(re.match(r\".*osu.*\", wingui.GetWindowText(handle))):\n",
    "            pos = (wingui.GetWindowRect(handle))\n",
    "            tabPos.append(pos)\n",
    "\n",
    "    tabPos = []\n",
    "    wingui.EnumWindows(callback, None)\n",
    "    return tabPos\n",
    "\n",
    "#retourne l'image sous forme de matrice\n",
    "def Foncimg(x,y,x1,y1):\n",
    "    img = ImageGrab.grab(bbox=(x+3,y+26,x1-3,y1-3))\n",
    "    img = img.resize((160, 120))\n",
    "    img = keras.preprocessing.image.img_to_array(img)\n",
    "    imgIa = np.expand_dims(img, axis=0)\n",
    "    return imgIa"
   ]
  },
  {
   "cell_type": "markdown",
   "metadata": {},
   "source": [
    "### Fonctions pour récupérer le score"
   ]
  },
  {
   "cell_type": "code",
   "execution_count": 22,
   "metadata": {},
   "outputs": [],
   "source": [
    "def getScore(p):\n",
    "    TCP_IP = '127.0.0.1'\n",
    "    TCP_PORT = p\n",
    "    MESSAGE = b'getScore'\n",
    "\n",
    "    s = socket.socket(socket.AF_INET, socket.SOCK_STREAM)\n",
    "    s.connect((TCP_IP, TCP_PORT))\n",
    "    s.send(MESSAGE)\n",
    "    ret = s.recv(1024).decode('utf-8')\n",
    "    if(ret != ''):\n",
    "        ret=int(ret)\n",
    "    s.close()\n",
    "    return ret\n",
    "    "
   ]
  },
  {
   "cell_type": "markdown",
   "metadata": {},
   "source": [
    "### Fonctions pour l'IA supervisée"
   ]
  },
  {
   "cell_type": "code",
   "execution_count": 23,
   "metadata": {},
   "outputs": [
    {
     "output_type": "execute_result",
     "data": {
      "text/plain": [
       "<tensorflow.python.training.tracking.util.CheckpointLoadStatus at 0x1e9e5ec8250>"
      ]
     },
     "metadata": {},
     "execution_count": 23
    }
   ],
   "source": [
    "#Fonction pour l'IA supervisée\n",
    "def show_sample(img):\n",
    "    figure, axis = plt.subplots(1,1)\n",
    "    axis.imshow(img)\n",
    "    \n",
    "def show_sample2(img,img2):\n",
    "    figure, (axis1, axis2) = plt.subplots(1,2)\n",
    "    axis1.imshow(img)\n",
    "    axis2.imshow(img2)\n",
    "\n",
    "#On charge les poids et le modèle entrainé\n",
    "model = keras.models.load_model('save/model/model')\n",
    "model.load_weights('save/poids/model')\n",
    "\n"
   ]
  },
  {
   "cell_type": "markdown",
   "metadata": {},
   "source": [
    "### Fonctions pour l'IA par renforcement"
   ]
  },
  {
   "cell_type": "code",
   "execution_count": 24,
   "metadata": {
    "scrolled": true
   },
   "outputs": [],
   "source": [
    "#Creation du model pour clic\n",
    "#batchshape: ensemble; ici: ensemble de taille indéerminé avec chacune 3 valeur (x,y,difference entre rayon)\n",
    "Input = tf.keras.Input([None, 1])\n",
    "\n",
    "layer = tf.keras.layers.Dense(8, 'relu',True).apply(Input)\n",
    "#1 neurone de sortis: clic:oui ou non\n",
    "#linéaire car on aura un espérence du nombre de récompense.\n",
    "output = tf.keras.layers.Dense(1, 'linear',True).apply(layer)\n",
    "modelClic = tf.keras.Model(Input, output)\n",
    "model_optimizer = tf.keras.optimizers.Adam(0.01)\n",
    "\n",
    "        \n",
    "def model_loss(tf_states, tf_actions, Qtargets):\n",
    "                return modelClic.predict(tf_states).sub(Qtargets).square().mul(tf_actions).mean()\n",
    "\n",
    "\n",
    "#Choix si greed ou explore.\n",
    "def pickActionClic(st, eps):\n",
    "    st_tensor = tf.constant(st[2])\n",
    "    if (random.uniform(0,1) < eps): # Pick a random action\n",
    "            act = [random.randint(0,1)]\n",
    "    else:\n",
    "        result = modelClic.predict(st_tensor) #predis les possibilitées\n",
    "        argmax = result.argMax(1) #récup le chemin avec le meilleur résultat.\n",
    "        act = argmax.buffer().values[0]\n",
    "        argmax.dispose()\n",
    "        result.dispose()\n",
    "    #st_tensor.dispose()\n",
    "    return act"
   ]
  },
  {
   "cell_type": "code",
   "execution_count": 25,
   "metadata": {},
   "outputs": [],
   "source": [
    "def pickAction(st,eps):\n",
    "    act=[0]\n",
    "    #act=pickActionClic(st,eps)\n",
    "    if(st[2]<limite):\n",
    "        act[0]=1\n",
    "    else:\n",
    "        act[0]=0 \n",
    "    act+=[st[0],st[1]] #ajout de x et y; à modifier\n",
    "    return act\n",
    "\n",
    "def doAction(act):\n",
    "    if(act[0]==1):\n",
    "        viser(posFenetre[0],posFenetre[1],act[1],act[2])\n",
    "        cliquer();\n",
    "    score=getScore(12345)\n",
    "    return score\n",
    "\n",
    "def train_model(states,actions,rewards,model):\n",
    "    size=len(states)\n",
    "    \n",
    "    #Transformer les listes en tensor\n",
    "    tf_states = tf.convert_to_tensor(states)\n",
    "    tf_rewards = tf.convert_to_tensor(rewards)\n",
    "    tf_actions = tf.convert_to_tensor(actions)\n",
    "    \n",
    "    #Entrainement\n",
    "    batch_size=32\n",
    "    b=0\n",
    "    while b<batch_size:\n",
    "        if b + batch_size < size:\n",
    "            to=batch_size\n",
    "        else:\n",
    "            to=size+b\n",
    "        tf_states_b = tf_states[b: to]\n",
    "        tf_actions_b = tf_actions[b: to]\n",
    "        tf_rewards_b = tf_rewards[b: to]\n",
    "        \n",
    "        #model_optimizer.minimize(model_loss(tf_states_b, tf_actions_b, tf_rewards_b))\n",
    "        \n",
    "        #Liberation mémoire\n",
    "        del tf_states_b\n",
    "        del tf_actions_b\n",
    "        del tf_rewards_b\n",
    "        \n",
    "        b+=32\n",
    "    \n",
    "    #Liberation mémoire\n",
    "#     tf_states.dispose()\n",
    "#     tf_actions.dispose()\n",
    "#     tf_rewards.dispose()"
   ]
  },
  {
   "cell_type": "markdown",
   "metadata": {},
   "source": [
    "### Fonction pour obtenir la position du cercle\n"
   ]
  },
  {
   "cell_type": "code",
   "execution_count": 26,
   "metadata": {},
   "outputs": [],
   "source": [
    "def recupPositionCercle():\n",
    "    #On récupère l'image\n",
    "    img=Foncimg(posFenetre[0],posFenetre[1],posFenetre[2],posFenetre[3])\n",
    "    #On obtient les prédiction de l'IA supervisée en un tableau\n",
    "    y_pred = model.predict(img)\n",
    "    \n",
    "    #On return les données à la forme désirée\n",
    "    return [y_pred[0][0],y_pred[0][1],y_pred[0][3]-y_pred[0][2]]\n"
   ]
  },
  {
   "cell_type": "code",
   "execution_count": 34,
   "metadata": {},
   "outputs": [
    {
     "output_type": "execute_result",
     "data": {
      "text/plain": [
       "<function matplotlib.pyplot.show(close=None, block=None)>"
      ]
     },
     "metadata": {},
     "execution_count": 34
    },
    {
     "output_type": "display_data",
     "data": {
      "text/plain": "<Figure size 432x288 with 1 Axes>",
      "image/svg+xml": "<?xml version=\"1.0\" encoding=\"utf-8\" standalone=\"no\"?>\r\n<!DOCTYPE svg PUBLIC \"-//W3C//DTD SVG 1.1//EN\"\r\n  \"http://www.w3.org/Graphics/SVG/1.1/DTD/svg11.dtd\">\r\n<!-- Created with matplotlib (https://matplotlib.org/) -->\r\n<svg height=\"251.411344pt\" version=\"1.1\" viewBox=\"0 0 330.4075 251.411344\" width=\"330.4075pt\" xmlns=\"http://www.w3.org/2000/svg\" xmlns:xlink=\"http://www.w3.org/1999/xlink\">\r\n <metadata>\r\n  <rdf:RDF xmlns:cc=\"http://creativecommons.org/ns#\" xmlns:dc=\"http://purl.org/dc/elements/1.1/\" xmlns:rdf=\"http://www.w3.org/1999/02/22-rdf-syntax-ns#\">\r\n   <cc:Work>\r\n    <dc:type rdf:resource=\"http://purl.org/dc/dcmitype/StillImage\"/>\r\n    <dc:date>2021-03-01T11:46:53.608595</dc:date>\r\n    <dc:format>image/svg+xml</dc:format>\r\n    <dc:creator>\r\n     <cc:Agent>\r\n      <dc:title>Matplotlib v3.3.2, https://matplotlib.org/</dc:title>\r\n     </cc:Agent>\r\n    </dc:creator>\r\n   </cc:Work>\r\n  </rdf:RDF>\r\n </metadata>\r\n <defs>\r\n  <style type=\"text/css\">*{stroke-linecap:butt;stroke-linejoin:round;}</style>\r\n </defs>\r\n <g id=\"figure_1\">\r\n  <g id=\"patch_1\">\r\n   <path d=\"M 0 251.411344 \r\nL 330.4075 251.411344 \r\nL 330.4075 0 \r\nL 0 0 \r\nz\r\n\" style=\"fill:none;\"/>\r\n  </g>\r\n  <g id=\"axes_1\">\r\n   <g id=\"patch_2\">\r\n    <path d=\"M 33.2875 227.533219 \r\nL 323.2075 227.533219 \r\nL 323.2075 10.093219 \r\nL 33.2875 10.093219 \r\nz\r\n\" style=\"fill:#ffffff;\"/>\r\n   </g>\r\n   <g clip-path=\"url(#p9fb005b0d6)\">\r\n    <image height=\"218\" id=\"image3f016d05fc\" transform=\"scale(1 -1)translate(0 -218)\" width=\"290\" x=\"33.2875\" xlink:href=\"data:image/png;base64,\r\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\" y=\"-9.533219\"/>\r\n   </g>\r\n   <g id=\"matplotlib.axis_1\">\r\n    <g id=\"xtick_1\">\r\n     <g id=\"line2d_1\">\r\n      <defs>\r\n       <path d=\"M 0 0 \r\nL 0 3.5 \r\n\" id=\"m88f376f529\" style=\"stroke:#000000;stroke-width:0.8;\"/>\r\n      </defs>\r\n      <g>\r\n       <use style=\"stroke:#000000;stroke-width:0.8;\" x=\"34.1935\" xlink:href=\"#m88f376f529\" y=\"227.533219\"/>\r\n      </g>\r\n     </g>\r\n     <g id=\"text_1\">\r\n      <!-- 0 -->\r\n      <g transform=\"translate(31.01225 242.131656)scale(0.1 -0.1)\">\r\n       <defs>\r\n        <path d=\"M 31.78125 66.40625 \r\nQ 24.171875 66.40625 20.328125 58.90625 \r\nQ 16.5 51.421875 16.5 36.375 \r\nQ 16.5 21.390625 20.328125 13.890625 \r\nQ 24.171875 6.390625 31.78125 6.390625 \r\nQ 39.453125 6.390625 43.28125 13.890625 \r\nQ 47.125 21.390625 47.125 36.375 \r\nQ 47.125 51.421875 43.28125 58.90625 \r\nQ 39.453125 66.40625 31.78125 66.40625 \r\nz\r\nM 31.78125 74.21875 \r\nQ 44.046875 74.21875 50.515625 64.515625 \r\nQ 56.984375 54.828125 56.984375 36.375 \r\nQ 56.984375 17.96875 50.515625 8.265625 \r\nQ 44.046875 -1.421875 31.78125 -1.421875 \r\nQ 19.53125 -1.421875 13.0625 8.265625 \r\nQ 6.59375 17.96875 6.59375 36.375 \r\nQ 6.59375 54.828125 13.0625 64.515625 \r\nQ 19.53125 74.21875 31.78125 74.21875 \r\nz\r\n\" id=\"DejaVuSans-48\"/>\r\n       </defs>\r\n       <use xlink:href=\"#DejaVuSans-48\"/>\r\n      </g>\r\n     </g>\r\n    </g>\r\n    <g id=\"xtick_2\">\r\n     <g id=\"line2d_2\">\r\n      <g>\r\n       <use style=\"stroke:#000000;stroke-width:0.8;\" x=\"70.4335\" xlink:href=\"#m88f376f529\" y=\"227.533219\"/>\r\n      </g>\r\n     </g>\r\n     <g id=\"text_2\">\r\n      <!-- 20 -->\r\n      <g transform=\"translate(64.071 242.131656)scale(0.1 -0.1)\">\r\n       <defs>\r\n        <path d=\"M 19.1875 8.296875 \r\nL 53.609375 8.296875 \r\nL 53.609375 0 \r\nL 7.328125 0 \r\nL 7.328125 8.296875 \r\nQ 12.9375 14.109375 22.625 23.890625 \r\nQ 32.328125 33.6875 34.8125 36.53125 \r\nQ 39.546875 41.84375 41.421875 45.53125 \r\nQ 43.3125 49.21875 43.3125 52.78125 \r\nQ 43.3125 58.59375 39.234375 62.25 \r\nQ 35.15625 65.921875 28.609375 65.921875 \r\nQ 23.96875 65.921875 18.8125 64.3125 \r\nQ 13.671875 62.703125 7.8125 59.421875 \r\nL 7.8125 69.390625 \r\nQ 13.765625 71.78125 18.9375 73 \r\nQ 24.125 74.21875 28.421875 74.21875 \r\nQ 39.75 74.21875 46.484375 68.546875 \r\nQ 53.21875 62.890625 53.21875 53.421875 \r\nQ 53.21875 48.921875 51.53125 44.890625 \r\nQ 49.859375 40.875 45.40625 35.40625 \r\nQ 44.1875 33.984375 37.640625 27.21875 \r\nQ 31.109375 20.453125 19.1875 8.296875 \r\nz\r\n\" id=\"DejaVuSans-50\"/>\r\n       </defs>\r\n       <use xlink:href=\"#DejaVuSans-50\"/>\r\n       <use x=\"63.623047\" xlink:href=\"#DejaVuSans-48\"/>\r\n      </g>\r\n     </g>\r\n    </g>\r\n    <g id=\"xtick_3\">\r\n     <g id=\"line2d_3\">\r\n      <g>\r\n       <use style=\"stroke:#000000;stroke-width:0.8;\" x=\"106.6735\" xlink:href=\"#m88f376f529\" y=\"227.533219\"/>\r\n      </g>\r\n     </g>\r\n     <g id=\"text_3\">\r\n      <!-- 40 -->\r\n      <g transform=\"translate(100.311 242.131656)scale(0.1 -0.1)\">\r\n       <defs>\r\n        <path d=\"M 37.796875 64.3125 \r\nL 12.890625 25.390625 \r\nL 37.796875 25.390625 \r\nz\r\nM 35.203125 72.90625 \r\nL 47.609375 72.90625 \r\nL 47.609375 25.390625 \r\nL 58.015625 25.390625 \r\nL 58.015625 17.1875 \r\nL 47.609375 17.1875 \r\nL 47.609375 0 \r\nL 37.796875 0 \r\nL 37.796875 17.1875 \r\nL 4.890625 17.1875 \r\nL 4.890625 26.703125 \r\nz\r\n\" id=\"DejaVuSans-52\"/>\r\n       </defs>\r\n       <use xlink:href=\"#DejaVuSans-52\"/>\r\n       <use x=\"63.623047\" xlink:href=\"#DejaVuSans-48\"/>\r\n      </g>\r\n     </g>\r\n    </g>\r\n    <g id=\"xtick_4\">\r\n     <g id=\"line2d_4\">\r\n      <g>\r\n       <use style=\"stroke:#000000;stroke-width:0.8;\" x=\"142.9135\" xlink:href=\"#m88f376f529\" y=\"227.533219\"/>\r\n      </g>\r\n     </g>\r\n     <g id=\"text_4\">\r\n      <!-- 60 -->\r\n      <g transform=\"translate(136.551 242.131656)scale(0.1 -0.1)\">\r\n       <defs>\r\n        <path d=\"M 33.015625 40.375 \r\nQ 26.375 40.375 22.484375 35.828125 \r\nQ 18.609375 31.296875 18.609375 23.390625 \r\nQ 18.609375 15.53125 22.484375 10.953125 \r\nQ 26.375 6.390625 33.015625 6.390625 \r\nQ 39.65625 6.390625 43.53125 10.953125 \r\nQ 47.40625 15.53125 47.40625 23.390625 \r\nQ 47.40625 31.296875 43.53125 35.828125 \r\nQ 39.65625 40.375 33.015625 40.375 \r\nz\r\nM 52.59375 71.296875 \r\nL 52.59375 62.3125 \r\nQ 48.875 64.0625 45.09375 64.984375 \r\nQ 41.3125 65.921875 37.59375 65.921875 \r\nQ 27.828125 65.921875 22.671875 59.328125 \r\nQ 17.53125 52.734375 16.796875 39.40625 \r\nQ 19.671875 43.65625 24.015625 45.921875 \r\nQ 28.375 48.1875 33.59375 48.1875 \r\nQ 44.578125 48.1875 50.953125 41.515625 \r\nQ 57.328125 34.859375 57.328125 23.390625 \r\nQ 57.328125 12.15625 50.6875 5.359375 \r\nQ 44.046875 -1.421875 33.015625 -1.421875 \r\nQ 20.359375 -1.421875 13.671875 8.265625 \r\nQ 6.984375 17.96875 6.984375 36.375 \r\nQ 6.984375 53.65625 15.1875 63.9375 \r\nQ 23.390625 74.21875 37.203125 74.21875 \r\nQ 40.921875 74.21875 44.703125 73.484375 \r\nQ 48.484375 72.75 52.59375 71.296875 \r\nz\r\n\" id=\"DejaVuSans-54\"/>\r\n       </defs>\r\n       <use xlink:href=\"#DejaVuSans-54\"/>\r\n       <use x=\"63.623047\" xlink:href=\"#DejaVuSans-48\"/>\r\n      </g>\r\n     </g>\r\n    </g>\r\n    <g id=\"xtick_5\">\r\n     <g id=\"line2d_5\">\r\n      <g>\r\n       <use style=\"stroke:#000000;stroke-width:0.8;\" x=\"179.1535\" xlink:href=\"#m88f376f529\" y=\"227.533219\"/>\r\n      </g>\r\n     </g>\r\n     <g id=\"text_5\">\r\n      <!-- 80 -->\r\n      <g transform=\"translate(172.791 242.131656)scale(0.1 -0.1)\">\r\n       <defs>\r\n        <path d=\"M 31.78125 34.625 \r\nQ 24.75 34.625 20.71875 30.859375 \r\nQ 16.703125 27.09375 16.703125 20.515625 \r\nQ 16.703125 13.921875 20.71875 10.15625 \r\nQ 24.75 6.390625 31.78125 6.390625 \r\nQ 38.8125 6.390625 42.859375 10.171875 \r\nQ 46.921875 13.96875 46.921875 20.515625 \r\nQ 46.921875 27.09375 42.890625 30.859375 \r\nQ 38.875 34.625 31.78125 34.625 \r\nz\r\nM 21.921875 38.8125 \r\nQ 15.578125 40.375 12.03125 44.71875 \r\nQ 8.5 49.078125 8.5 55.328125 \r\nQ 8.5 64.0625 14.71875 69.140625 \r\nQ 20.953125 74.21875 31.78125 74.21875 \r\nQ 42.671875 74.21875 48.875 69.140625 \r\nQ 55.078125 64.0625 55.078125 55.328125 \r\nQ 55.078125 49.078125 51.53125 44.71875 \r\nQ 48 40.375 41.703125 38.8125 \r\nQ 48.828125 37.15625 52.796875 32.3125 \r\nQ 56.78125 27.484375 56.78125 20.515625 \r\nQ 56.78125 9.90625 50.3125 4.234375 \r\nQ 43.84375 -1.421875 31.78125 -1.421875 \r\nQ 19.734375 -1.421875 13.25 4.234375 \r\nQ 6.78125 9.90625 6.78125 20.515625 \r\nQ 6.78125 27.484375 10.78125 32.3125 \r\nQ 14.796875 37.15625 21.921875 38.8125 \r\nz\r\nM 18.3125 54.390625 \r\nQ 18.3125 48.734375 21.84375 45.5625 \r\nQ 25.390625 42.390625 31.78125 42.390625 \r\nQ 38.140625 42.390625 41.71875 45.5625 \r\nQ 45.3125 48.734375 45.3125 54.390625 \r\nQ 45.3125 60.0625 41.71875 63.234375 \r\nQ 38.140625 66.40625 31.78125 66.40625 \r\nQ 25.390625 66.40625 21.84375 63.234375 \r\nQ 18.3125 60.0625 18.3125 54.390625 \r\nz\r\n\" id=\"DejaVuSans-56\"/>\r\n       </defs>\r\n       <use xlink:href=\"#DejaVuSans-56\"/>\r\n       <use x=\"63.623047\" xlink:href=\"#DejaVuSans-48\"/>\r\n      </g>\r\n     </g>\r\n    </g>\r\n    <g id=\"xtick_6\">\r\n     <g id=\"line2d_6\">\r\n      <g>\r\n       <use style=\"stroke:#000000;stroke-width:0.8;\" x=\"215.3935\" xlink:href=\"#m88f376f529\" y=\"227.533219\"/>\r\n      </g>\r\n     </g>\r\n     <g id=\"text_6\">\r\n      <!-- 100 -->\r\n      <g transform=\"translate(205.84975 242.131656)scale(0.1 -0.1)\">\r\n       <defs>\r\n        <path d=\"M 12.40625 8.296875 \r\nL 28.515625 8.296875 \r\nL 28.515625 63.921875 \r\nL 10.984375 60.40625 \r\nL 10.984375 69.390625 \r\nL 28.421875 72.90625 \r\nL 38.28125 72.90625 \r\nL 38.28125 8.296875 \r\nL 54.390625 8.296875 \r\nL 54.390625 0 \r\nL 12.40625 0 \r\nz\r\n\" id=\"DejaVuSans-49\"/>\r\n       </defs>\r\n       <use xlink:href=\"#DejaVuSans-49\"/>\r\n       <use x=\"63.623047\" xlink:href=\"#DejaVuSans-48\"/>\r\n       <use x=\"127.246094\" xlink:href=\"#DejaVuSans-48\"/>\r\n      </g>\r\n     </g>\r\n    </g>\r\n    <g id=\"xtick_7\">\r\n     <g id=\"line2d_7\">\r\n      <g>\r\n       <use style=\"stroke:#000000;stroke-width:0.8;\" x=\"251.6335\" xlink:href=\"#m88f376f529\" y=\"227.533219\"/>\r\n      </g>\r\n     </g>\r\n     <g id=\"text_7\">\r\n      <!-- 120 -->\r\n      <g transform=\"translate(242.08975 242.131656)scale(0.1 -0.1)\">\r\n       <use xlink:href=\"#DejaVuSans-49\"/>\r\n       <use x=\"63.623047\" xlink:href=\"#DejaVuSans-50\"/>\r\n       <use x=\"127.246094\" xlink:href=\"#DejaVuSans-48\"/>\r\n      </g>\r\n     </g>\r\n    </g>\r\n    <g id=\"xtick_8\">\r\n     <g id=\"line2d_8\">\r\n      <g>\r\n       <use style=\"stroke:#000000;stroke-width:0.8;\" x=\"287.8735\" xlink:href=\"#m88f376f529\" y=\"227.533219\"/>\r\n      </g>\r\n     </g>\r\n     <g id=\"text_8\">\r\n      <!-- 140 -->\r\n      <g transform=\"translate(278.32975 242.131656)scale(0.1 -0.1)\">\r\n       <use xlink:href=\"#DejaVuSans-49\"/>\r\n       <use x=\"63.623047\" xlink:href=\"#DejaVuSans-52\"/>\r\n       <use x=\"127.246094\" xlink:href=\"#DejaVuSans-48\"/>\r\n      </g>\r\n     </g>\r\n    </g>\r\n   </g>\r\n   <g id=\"matplotlib.axis_2\">\r\n    <g id=\"ytick_1\">\r\n     <g id=\"line2d_9\">\r\n      <defs>\r\n       <path d=\"M 0 0 \r\nL -3.5 0 \r\n\" id=\"mf6fe0de235\" style=\"stroke:#000000;stroke-width:0.8;\"/>\r\n      </defs>\r\n      <g>\r\n       <use style=\"stroke:#000000;stroke-width:0.8;\" x=\"33.2875\" xlink:href=\"#mf6fe0de235\" y=\"10.999219\"/>\r\n      </g>\r\n     </g>\r\n     <g id=\"text_9\">\r\n      <!-- 0 -->\r\n      <g transform=\"translate(19.925 14.798438)scale(0.1 -0.1)\">\r\n       <use xlink:href=\"#DejaVuSans-48\"/>\r\n      </g>\r\n     </g>\r\n    </g>\r\n    <g id=\"ytick_2\">\r\n     <g id=\"line2d_10\">\r\n      <g>\r\n       <use style=\"stroke:#000000;stroke-width:0.8;\" x=\"33.2875\" xlink:href=\"#mf6fe0de235\" y=\"47.239219\"/>\r\n      </g>\r\n     </g>\r\n     <g id=\"text_10\">\r\n      <!-- 20 -->\r\n      <g transform=\"translate(13.5625 51.038438)scale(0.1 -0.1)\">\r\n       <use xlink:href=\"#DejaVuSans-50\"/>\r\n       <use x=\"63.623047\" xlink:href=\"#DejaVuSans-48\"/>\r\n      </g>\r\n     </g>\r\n    </g>\r\n    <g id=\"ytick_3\">\r\n     <g id=\"line2d_11\">\r\n      <g>\r\n       <use style=\"stroke:#000000;stroke-width:0.8;\" x=\"33.2875\" xlink:href=\"#mf6fe0de235\" y=\"83.479219\"/>\r\n      </g>\r\n     </g>\r\n     <g id=\"text_11\">\r\n      <!-- 40 -->\r\n      <g transform=\"translate(13.5625 87.278438)scale(0.1 -0.1)\">\r\n       <use xlink:href=\"#DejaVuSans-52\"/>\r\n       <use x=\"63.623047\" xlink:href=\"#DejaVuSans-48\"/>\r\n      </g>\r\n     </g>\r\n    </g>\r\n    <g id=\"ytick_4\">\r\n     <g id=\"line2d_12\">\r\n      <g>\r\n       <use style=\"stroke:#000000;stroke-width:0.8;\" x=\"33.2875\" xlink:href=\"#mf6fe0de235\" y=\"119.719219\"/>\r\n      </g>\r\n     </g>\r\n     <g id=\"text_12\">\r\n      <!-- 60 -->\r\n      <g transform=\"translate(13.5625 123.518438)scale(0.1 -0.1)\">\r\n       <use xlink:href=\"#DejaVuSans-54\"/>\r\n       <use x=\"63.623047\" xlink:href=\"#DejaVuSans-48\"/>\r\n      </g>\r\n     </g>\r\n    </g>\r\n    <g id=\"ytick_5\">\r\n     <g id=\"line2d_13\">\r\n      <g>\r\n       <use style=\"stroke:#000000;stroke-width:0.8;\" x=\"33.2875\" xlink:href=\"#mf6fe0de235\" y=\"155.959219\"/>\r\n      </g>\r\n     </g>\r\n     <g id=\"text_13\">\r\n      <!-- 80 -->\r\n      <g transform=\"translate(13.5625 159.758438)scale(0.1 -0.1)\">\r\n       <use xlink:href=\"#DejaVuSans-56\"/>\r\n       <use x=\"63.623047\" xlink:href=\"#DejaVuSans-48\"/>\r\n      </g>\r\n     </g>\r\n    </g>\r\n    <g id=\"ytick_6\">\r\n     <g id=\"line2d_14\">\r\n      <g>\r\n       <use style=\"stroke:#000000;stroke-width:0.8;\" x=\"33.2875\" xlink:href=\"#mf6fe0de235\" y=\"192.199219\"/>\r\n      </g>\r\n     </g>\r\n     <g id=\"text_14\">\r\n      <!-- 100 -->\r\n      <g transform=\"translate(7.2 195.998438)scale(0.1 -0.1)\">\r\n       <use xlink:href=\"#DejaVuSans-49\"/>\r\n       <use x=\"63.623047\" xlink:href=\"#DejaVuSans-48\"/>\r\n       <use x=\"127.246094\" xlink:href=\"#DejaVuSans-48\"/>\r\n      </g>\r\n     </g>\r\n    </g>\r\n   </g>\r\n   <g id=\"patch_3\">\r\n    <path d=\"M 33.2875 227.533219 \r\nL 33.2875 10.093219 \r\n\" style=\"fill:none;stroke:#000000;stroke-linecap:square;stroke-linejoin:miter;stroke-width:0.8;\"/>\r\n   </g>\r\n   <g id=\"patch_4\">\r\n    <path d=\"M 323.2075 227.533219 \r\nL 323.2075 10.093219 \r\n\" style=\"fill:none;stroke:#000000;stroke-linecap:square;stroke-linejoin:miter;stroke-width:0.8;\"/>\r\n   </g>\r\n   <g id=\"patch_5\">\r\n    <path d=\"M 33.2875 227.533219 \r\nL 323.2075 227.533219 \r\n\" style=\"fill:none;stroke:#000000;stroke-linecap:square;stroke-linejoin:miter;stroke-width:0.8;\"/>\r\n   </g>\r\n   <g id=\"patch_6\">\r\n    <path d=\"M 33.2875 10.093219 \r\nL 323.2075 10.093219 \r\n\" style=\"fill:none;stroke:#000000;stroke-linecap:square;stroke-linejoin:miter;stroke-width:0.8;\"/>\r\n   </g>\r\n  </g>\r\n </g>\r\n <defs>\r\n  <clipPath id=\"p9fb005b0d6\">\r\n   <rect height=\"217.44\" width=\"289.92\" x=\"33.2875\" y=\"10.093219\"/>\r\n  </clipPath>\r\n </defs>\r\n</svg>\r\n",
      "image/png": "[encoded data removed]"
     },
     "metadata": {
      "needs_background": "light"
     }
    }
   ],
   "source": [
    "import time\n",
    "time.sleep(5)\n",
    "posFenetre=position()\n",
    "img=Foncimg(posFenetre[0][0],posFenetre[0][1],posFenetre[0][2],posFenetre[0][3])\n",
    "plt.imshow(img[0]/255)\n",
    "plt.show"
   ]
  },
  {
   "cell_type": "code",
   "execution_count": 9,
   "metadata": {},
   "outputs": [],
   "source": [
    "# # -*- coding: utf-8 -*-\n",
    "# from configOsu import Config\n",
    "# import win32gui\n",
    "# import time\n",
    "\n",
    "\n",
    "# cf = Config()\n",
    "\n",
    "# cf.config()\n",
    "# results = []\n",
    "\n",
    "# while(1):\n",
    "#     time.sleep(1)\n",
    "#     window_handle = win32gui.FindWindow(None, \"osu!\")\n",
    "#     if window_handle!=0 and win32gui.GetClassName(window_handle)[0:28] == \"WindowsForms10.Window.2b.app\":\n",
    "#         print(\"jeu Osu! lancé\")\n",
    "#         break\n",
    "    \n",
    "# window_handle = win32gui.FindWindow(None, \"osu!\")\n",
    "# while window_handle!=0 and win32gui.GetClassName(window_handle)[0:28]==\"WindowsForms10.Window.2b.app\":\n",
    "#     time.sleep(1)\n",
    "#     window_handle = win32gui.FindWindow(None, \"osu!\")\n",
    "\n",
    "    \n",
    "# time.sleep(1)\n",
    "\n",
    "# print(\"jeu Osu! fermé\")\n",
    "# cf.reload()"
   ]
  },
  {
   "cell_type": "markdown",
   "metadata": {},
   "source": [
    "## main:"
   ]
  },
  {
   "cell_type": "code",
   "execution_count": 15,
   "metadata": {
    "scrolled": true
   },
   "outputs": [
    {
     "name": "stdout",
     "output_type": "stream",
     "text": [
      "1.261158\n",
      "0\n",
      "9.129854\n",
      "0\n",
      "0.35097504\n",
      "0\n",
      "0.03429413\n",
      "50\n",
      "1.9234276\n",
      "0\n",
      "0.11044693\n",
      "0\n",
      "1.0907974\n",
      "50\n",
      "1.5916443\n",
      "50\n",
      "1.9942894\n",
      "0\n",
      "2.8656693\n",
      "50\n"
     ]
    }
   ],
   "source": [
    "#AlgoFinal\n",
    "\n",
    "eps=1 # exploration\n",
    "reward=0\n",
    "\n",
    "mouse= Controller()\n",
    "\n",
    "#On récupère la position de la fenêtre d'osu, on considère qu'elle ne bougera pas,et que le jeu est en 800*600 fenêtré\n",
    "posFenetre=position()\n",
    "posFenetre=posFenetre[0]\n",
    "#Stockage experience\n",
    "actions=[[0,0,0] for i in range(Max)]\n",
    "rewards=[[0] for i in range(Max)]\n",
    "states=[[0,0,0] for i in range(Max)]\n",
    "\n",
    "st=recupPositionCercle()\n",
    "flucher=getScore(12345)\n",
    "while(st[2]<0):\n",
    "    st=recupPositionCercle()\n",
    "i=0       \n",
    "while i<Max:\n",
    "    action=pickAction(st,eps)#appel IA\n",
    "    reward=doAction(action)#Fait l'action et récupère le nombre de points reçus\n",
    "    if(reward !=''):\n",
    "        print(st[2])\n",
    "        print(reward)\n",
    "        i+=1\n",
    "    \n",
    "    \n",
    "        \n",
    "#     states[i]=st\n",
    "#     actions[i]=action\n",
    "#     rewards[i]=[reward]\n",
    "    \n",
    "#     train_model(states,actions,rewards,model)\n",
    "    st=recupPositionCercle()\n",
    "    while(st[2]<0):\n",
    "        st=recupPositionCercle()\n",
    "    \n"
   ]
  },
  {
   "cell_type": "code",
   "execution_count": null,
   "metadata": {},
   "outputs": [],
   "source": []
  }
 ],
 "metadata": {
  "kernelspec": {
   "display_name": "Python 3",
   "language": "python",
   "name": "python3"
  },
  "language_info": {
   "codemirror_mode": {
    "name": "ipython",
    "version": 3
   },
   "file_extension": ".py",
   "mimetype": "text/x-python",
   "name": "python",
   "nbconvert_exporter": "python",
   "pygments_lexer": "ipython3",
   "version": "3.8.0-final"
  }
 },
 "nbformat": 4,
 "nbformat_minor": 4
}