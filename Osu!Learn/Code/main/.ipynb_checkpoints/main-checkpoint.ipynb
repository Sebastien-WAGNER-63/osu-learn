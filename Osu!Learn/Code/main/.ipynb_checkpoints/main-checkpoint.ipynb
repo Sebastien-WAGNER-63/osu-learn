{
 "cells": [
  {
   "cell_type": "markdown",
   "metadata": {},
   "source": [
    "### Ceci est le fichier principal, pour l'instant il regroupe toutes les fonctions et le main"
   ]
  },
  {
   "cell_type": "code",
   "execution_count": 1,
   "metadata": {},
   "outputs": [],
   "source": [
    "#import\n",
    "import matplotlib.pyplot as plt\n",
    "import tensorflow as tf\n",
    "import numpy as np\n",
    "import pandas as pd\n",
    "import win32gui\n",
    "import time\n",
    "from pynput.mouse import Controller, Button\n",
    "import random\n",
    "import socket\n",
    "import sys, os\n",
    "import matplotlib.pyplot as plt\n",
    "from tensorflow import keras\n",
    "from PIL import Image\n",
    "from PIL import ImageDraw\n",
    "from PIL import ImageGrab\n",
    "sys.path.append('..')\n",
    "from utilitaire.imgAiTrainer.imgAiTrainer import Trainer\n",
    "import win32gui as wingui\n",
    "import re\n",
    "\n",
    "tr = Trainer()\n",
    "Max=10\n",
    "limite=8"
   ]
  },
  {
   "cell_type": "markdown",
   "metadata": {},
   "source": [
    "### Fonctions pour cliquer"
   ]
  },
  {
   "cell_type": "code",
   "execution_count": 2,
   "metadata": {},
   "outputs": [],
   "source": [
    "#fonction de vérification de position de la souris x,y -> Position du curseur / xF_g,yF_g -> position en haut à gauche de la fenêtre / xF_d,yF_d -> position en bas à droite de la fenêtre\n",
    "def isSortie(x,y):\n",
    "    #Si le curseur est sorti de la fenêtre je return False sinon je return True\n",
    "    return x < 0 or x > 800 or y < 0 or y > 600\n",
    "\n",
    "#fonction qui traduit les coordonnée relative à la fenêtre en coordonnée relative à l'écran\n",
    "def viser(xF_g,yF_d,xV,yV):\n",
    "        mouse.position=(xV+xF_g+2,yV+yF_d)\n",
    "\n",
    "#fonction de clique\n",
    "def cliquer():\n",
    "    mouse.press(Button.left)\n",
    "    mouse.release(Button.left)"
   ]
  },
  {
   "cell_type": "markdown",
   "metadata": {},
   "source": [
    "### Fonctions pour récupérer l'image du jeu"
   ]
  },
  {
   "cell_type": "code",
   "execution_count": 3,
   "metadata": {},
   "outputs": [],
   "source": [
    "#### Fonctions pour récupérer l'image du jeu\n",
    "#retourne la position de la fenêtre d'Osu\n",
    "def position():\n",
    "    def callback(handle, data):\n",
    "        if(re.match(r\".*osu.*\", wingui.GetWindowText(handle))):\n",
    "            pos = (wingui.GetWindowRect(handle))\n",
    "            tabPos.append(pos)\n",
    "\n",
    "    tabPos = []\n",
    "    wingui.EnumWindows(callback, None)\n",
    "    return tabPos\n",
    "\n",
    "#retourne l'image sous forme de matrice\n",
    "def Foncimg(x,y,x1,y1):\n",
    "    img = ImageGrab.grab(bbox=(x+3,y+26,x1-3,y1-3))\n",
    "    img = img.resize((160, 120))\n",
    "    img = keras.preprocessing.image.img_to_array(img)\n",
    "    imgIa = np.expand_dims(img, axis=0)\n",
    "    return imgIa"
   ]
  },
  {
   "cell_type": "markdown",
   "metadata": {},
   "source": [
    "### Fonctions pour récupérer le score"
   ]
  },
  {
   "cell_type": "code",
   "execution_count": 4,
   "metadata": {},
   "outputs": [],
   "source": [
    "def getScore(p):\n",
    "    TCP_IP = '127.0.0.1'\n",
    "    TCP_PORT = p\n",
    "    MESSAGE = b'getScore'\n",
    "\n",
    "    s = socket.socket(socket.AF_INET, socket.SOCK_STREAM)\n",
    "    s.connect((TCP_IP, TCP_PORT))\n",
    "    s.send(MESSAGE)\n",
    "    ret = s.recv(1024).decode('utf-8')\n",
    "    if(ret != ''):\n",
    "        ret=int(ret)\n",
    "    s.close()\n",
    "    return ret\n",
    "    "
   ]
  },
  {
   "cell_type": "markdown",
   "metadata": {},
   "source": [
    "### Fonctions pour l'IA supervisée"
   ]
  },
  {
   "cell_type": "code",
   "execution_count": 5,
   "metadata": {},
   "outputs": [
    {
     "data": {
      "text/plain": [
       "<tensorflow.python.training.tracking.util.CheckpointLoadStatus at 0x1d20e08bd00>"
      ]
     },
     "execution_count": 5,
     "metadata": {},
     "output_type": "execute_result"
    }
   ],
   "source": [
    "#Fonction pour l'IA supervisée\n",
    "def show_sample(img):\n",
    "    figure, axis = plt.subplots(1,1)\n",
    "    axis.imshow(img)\n",
    "    \n",
    "def show_sample2(img,img2):\n",
    "    figure, (axis1, axis2) = plt.subplots(1,2)\n",
    "    axis1.imshow(img)\n",
    "    axis2.imshow(img2)\n",
    "\n",
    "#On charge les poids et le modèle entrainé\n",
    "model = keras.models.load_model('save/model/model')\n",
    "model.load_weights('save/poids/model')\n",
    "\n"
   ]
  },
  {
   "cell_type": "markdown",
   "metadata": {},
   "source": [
    "### Fonctions pour l'IA par renforcement"
   ]
  },
  {
   "cell_type": "code",
   "execution_count": 6,
   "metadata": {
    "scrolled": true
   },
   "outputs": [
    {
     "name": "stdout",
     "output_type": "stream",
     "text": [
      "WARNING:tensorflow:From <ipython-input-6-5ebf867e0c75>:5: Layer.apply (from tensorflow.python.keras.engine.base_layer) is deprecated and will be removed in a future version.\n",
      "Instructions for updating:\n",
      "Please use `layer.__call__` method instead.\n"
     ]
    }
   ],
   "source": [
    "#Creation du model pour clic\n",
    "#batchshape: ensemble; ici: ensemble de taille indéerminé avec chacune 3 valeur (x,y,difference entre rayon)\n",
    "Input = tf.keras.Input([None, 1])\n",
    "\n",
    "layer = tf.keras.layers.Dense(8, 'relu',True).apply(Input)\n",
    "#1 neurone de sortis: clic:oui ou non\n",
    "#linéaire car on aura un espérence du nombre de récompense.\n",
    "output = tf.keras.layers.Dense(1, 'linear',True).apply(layer)\n",
    "modelClic = tf.keras.Model(Input, output)\n",
    "model_optimizer = tf.keras.optimizers.Adam(0.01)\n",
    "\n",
    "        \n",
    "def model_loss(tf_states, tf_actions, Qtargets):\n",
    "                return modelClic.predict(tf_states).sub(Qtargets).square().mul(tf_actions).mean()\n",
    "\n",
    "\n",
    "#Choix si greed ou explore.\n",
    "def pickActionClic(st, eps):\n",
    "    st_tensor = tf.constant(st[2])\n",
    "    if (random.uniform(0,1) < eps): # Pick a random action\n",
    "            act = [random.randint(0,1)]\n",
    "    else:\n",
    "        result = modelClic.predict(st_tensor) #predis les possibilitées\n",
    "        argmax = result.argMax(1) #récup le chemin avec le meilleur résultat.\n",
    "        act = argmax.buffer().values[0]\n",
    "        argmax.dispose()\n",
    "        result.dispose()\n",
    "    #st_tensor.dispose()\n",
    "    return act"
   ]
  },
  {
   "cell_type": "code",
   "execution_count": 7,
   "metadata": {},
   "outputs": [],
   "source": [
    "def pickAction(st,eps):\n",
    "    act=[0]\n",
    "    #act=pickActionClic(st,eps)\n",
    "    if(st[2]<limite):\n",
    "        act[0]=1\n",
    "    else:\n",
    "        act[0]=0 \n",
    "    act+=[st[0],st[1]] #ajout de x et y; à modifier\n",
    "    return act\n",
    "\n",
    "def doAction(act):\n",
    "    if(act[0]==1):\n",
    "        viser(posFenetre[0],posFenetre[1],act[1],act[2])\n",
    "        cliquer();\n",
    "    score=getScore(12345)\n",
    "    return score\n",
    "\n",
    "def train_model(states,actions,rewards,model):\n",
    "    size=len(states)\n",
    "    \n",
    "    #Transformer les listes en tensor\n",
    "    tf_states = tf.convert_to_tensor(states)\n",
    "    tf_rewards = tf.convert_to_tensor(rewards)\n",
    "    tf_actions = tf.convert_to_tensor(actions)\n",
    "    \n",
    "    #Entrainement\n",
    "    batch_size=32\n",
    "    b=0\n",
    "    while b<batch_size:\n",
    "        if b + batch_size < size:\n",
    "            to=batch_size\n",
    "        else:\n",
    "            to=size+b\n",
    "        tf_states_b = tf_states[b: to]\n",
    "        tf_actions_b = tf_actions[b: to]\n",
    "        tf_rewards_b = tf_rewards[b: to]\n",
    "        \n",
    "        #model_optimizer.minimize(model_loss(tf_states_b, tf_actions_b, tf_rewards_b))\n",
    "        \n",
    "        #Liberation mémoire\n",
    "        del tf_states_b\n",
    "        del tf_actions_b\n",
    "        del tf_rewards_b\n",
    "        \n",
    "        b+=32\n",
    "    \n",
    "    #Liberation mémoire\n",
    "#     tf_states.dispose()\n",
    "#     tf_actions.dispose()\n",
    "#     tf_rewards.dispose()"
   ]
  },
  {
   "cell_type": "markdown",
   "metadata": {},
   "source": [
    "### Fonction pour obtenir la position du cercle\n"
   ]
  },
  {
   "cell_type": "code",
   "execution_count": 8,
   "metadata": {},
   "outputs": [],
   "source": [
    "def recupPositionCercle():\n",
    "    #On récupère l'image\n",
    "    img=Foncimg(posFenetre[0],posFenetre[1],posFenetre[2],posFenetre[3])\n",
    "    #On obtient les prédiction de l'IA supervisée en un tableau\n",
    "    y_pred = model.predict(img)\n",
    "    \n",
    "    #On return les données à la forme désirée\n",
    "    return [y_pred[0][0],y_pred[0][1],y_pred[0][3]-y_pred[0][2]]\n"
   ]
  },
  {
   "cell_type": "code",
   "execution_count": 9,
   "metadata": {},
   "outputs": [],
   "source": [
    "# # -*- coding: utf-8 -*-\n",
    "# from configOsu import Config\n",
    "# import win32gui\n",
    "# import time\n",
    "\n",
    "\n",
    "# cf = Config()\n",
    "\n",
    "# cf.config()\n",
    "# results = []\n",
    "\n",
    "# while(1):\n",
    "#     time.sleep(1)\n",
    "#     window_handle = win32gui.FindWindow(None, \"osu!\")\n",
    "#     if window_handle!=0 and win32gui.GetClassName(window_handle)[0:28] == \"WindowsForms10.Window.2b.app\":\n",
    "#         print(\"jeu Osu! lancé\")\n",
    "#         break\n",
    "    \n",
    "# window_handle = win32gui.FindWindow(None, \"osu!\")\n",
    "# while window_handle!=0 and win32gui.GetClassName(window_handle)[0:28]==\"WindowsForms10.Window.2b.app\":\n",
    "#     time.sleep(1)\n",
    "#     window_handle = win32gui.FindWindow(None, \"osu!\")\n",
    "\n",
    "    \n",
    "# time.sleep(1)\n",
    "\n",
    "# print(\"jeu Osu! fermé\")\n",
    "# cf.reload()"
   ]
  },
  {
   "cell_type": "markdown",
   "metadata": {},
   "source": [
    "## main:"
   ]
  },
  {
   "cell_type": "code",
   "execution_count": 12,
   "metadata": {
    "scrolled": true
   },
   "outputs": [
    {
     "name": "stdout",
     "output_type": "stream",
     "text": [
      "56.328613\n",
      "50\n",
      "2.0303001\n",
      "100\n",
      "3.0067863\n",
      "100\n",
      "6.2570915\n",
      "100\n",
      "7.972088\n",
      "300\n",
      "10.305019\n",
      "300\n",
      "1.4462318\n",
      "300\n",
      "4.176655\n",
      "100\n",
      "0.25530624\n",
      "100\n",
      "3.6487885\n",
      "100\n"
     ]
    }
   ],
   "source": [
    "#AlgoFinal\n",
    "\n",
    "eps=1 # exploration\n",
    "reward=0\n",
    "\n",
    "mouse= Controller()\n",
    "\n",
    "#On récupère la position de la fenêtre d'osu, on considère qu'elle ne bougera pas,et que le jeu est en 800*600 fenêtré\n",
    "posFenetre=position()\n",
    "posFenetre=posFenetre[0]\n",
    "#Stockage experience\n",
    "actions=[[0,0,0] for i in range(Max)]\n",
    "rewards=[[0] for i in range(Max)]\n",
    "states=[[0,0,0] for i in range(Max)]\n",
    "\n",
    "st=recupPositionCercle()\n",
    "while(st[2]<0):\n",
    "    st=recupPositionCercle()\n",
    "i=0       \n",
    "while i<Max:\n",
    "    action=pickAction(st,eps)#appel IA\n",
    "    reward=doAction(action)#Fait l'action et récupère le nombre de points reçus\n",
    "    if(reward !=''):\n",
    "        print(st[2])\n",
    "        print(reward)\n",
    "        i+=1\n",
    "    \n",
    "    \n",
    "        \n",
    "#     states[i]=st\n",
    "#     actions[i]=action\n",
    "#     rewards[i]=[reward]\n",
    "    \n",
    "#     train_model(states,actions,rewards,model)\n",
    "    st=recupPositionCercle()\n",
    "    while(st[2]<0):\n",
    "        st=recupPositionCercle()\n",
    "    \n"
   ]
  },
  {
   "cell_type": "code",
   "execution_count": null,
   "metadata": {},
   "outputs": [],
   "source": []
  }
 ],
 "metadata": {
  "kernelspec": {
   "display_name": "Python 3",
   "language": "python",
   "name": "python3"
  },
  "language_info": {
   "codemirror_mode": {
    "name": "ipython",
    "version": 3
   },
   "file_extension": ".py",
   "mimetype": "text/x-python",
   "name": "python",
   "nbconvert_exporter": "python",
   "pygments_lexer": "ipython3",
   "version": "3.8.3"
  }
 },
 "nbformat": 4,
 "nbformat_minor": 4
}
