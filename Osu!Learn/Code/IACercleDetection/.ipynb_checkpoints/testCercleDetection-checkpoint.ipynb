{
 "cells": [
  {
   "cell_type": "code",
   "execution_count": 1,
   "metadata": {},
   "outputs": [],
   "source": [
    "import sys, os\n",
    "import numpy as np\n",
    "import matplotlib.pyplot as plt\n",
    "import tensorflow as tf\n",
    "from tensorflow import keras\n",
    "from PIL import Image\n",
    "from PIL import ImageDraw\n",
    "sys.path.append('..')\n",
    "from utilitaire.imgAiTrainer.imgAiTrainer import Trainer\n",
    "\n",
    "tr = Trainer()"
   ]
  },
  {
   "cell_type": "code",
   "execution_count": 2,
   "metadata": {},
   "outputs": [],
   "source": [
    "def show_sample(img):\n",
    "  figure, axis = plt.subplots(1,1)\n",
    "  axis.imshow(img)"
   ]
  },
  {
   "cell_type": "code",
   "execution_count": 3,
   "metadata": {},
   "outputs": [],
   "source": [
    "def show_sample2(img,img2):\n",
    "  figure, (axis1, axis2) = plt.subplots(1,2)\n",
    "  axis1.imshow(img)\n",
    "  axis2.imshow(img2)"
   ]
  },
  {
   "cell_type": "code",
   "execution_count": 4,
   "metadata": {},
   "outputs": [
    {
     "data": {
      "text/plain": [
       "<tensorflow.python.training.tracking.util.CheckpointLoadStatus at 0x1cf29db0130>"
      ]
     },
     "execution_count": 4,
     "metadata": {},
     "output_type": "execute_result"
    }
   ],
   "source": [
    "model = keras.models.load_model('save/model/model')\n",
    "model.load_weights('save/poids/model')"
   ]
  },
  {
   "cell_type": "code",
   "execution_count": 17,
   "metadata": {},
   "outputs": [
    {
     "name": "stderr",
     "output_type": "stream",
     "text": [
      "Clipping input data to the valid range for imshow with RGB data ([0..1] for floats or [0..255] for integers).\n"
     ]
    },
    {
     "data": {
      "text/plain": [
       "(1, 120, 160, 3)"
      ]
     },
     "execution_count": 17,
     "metadata": {},
     "output_type": "execute_result"
    },
    {
     "data": {
      "image/png": "[encoded data removed]",
      "text/plain": [
       "<Figure size 432x288 with 1 Axes>"
      ]
     },
     "metadata": {
      "needs_background": "light"
     },
     "output_type": "display_data"
    }
   ],
   "source": [
    "cercleT = tr.createCercle((800,600),True)\n",
    "\n",
    "img = tf.keras.preprocessing.image.load_img(\"../../Assets/imgAiTrainer/cercle.png\",target_size=(120,160))\n",
    "img = keras.preprocessing.image.img_to_array(img)\n",
    "show_sample(img)\n",
    "imgIa = np.expand_dims(img, axis=0)\n",
    "imgIa.shape"
   ]
  },
  {
   "cell_type": "code",
   "execution_count": 18,
   "metadata": {},
   "outputs": [
    {
     "name": "stdout",
     "output_type": "stream",
     "text": [
      "Wall time: 33.9 ms\n"
     ]
    }
   ],
   "source": [
    "%%time\n",
    "y_pred = model.predict(imgIa)"
   ]
  },
  {
   "cell_type": "code",
   "execution_count": 19,
   "metadata": {},
   "outputs": [
    {
     "name": "stdout",
     "output_type": "stream",
     "text": [
      "Prédiction :  [[564.4584   441.52527   36.710094  60.87306 ]]\n",
      "Image :  (561.0, 438.0) 36.0 60.0\n"
     ]
    }
   ],
   "source": [
    "print(\"Prédiction : \",y_pred)\n",
    "print(\"Image : \",cercleT[0],cercleT[1],cercleT[2])"
   ]
  },
  {
   "cell_type": "code",
   "execution_count": 20,
   "metadata": {},
   "outputs": [
    {
     "name": "stderr",
     "output_type": "stream",
     "text": [
      "Clipping input data to the valid range for imshow with RGB data ([0..1] for floats or [0..255] for integers).\n",
      "Clipping input data to the valid range for imshow with RGB data ([0..1] for floats or [0..255] for integers).\n"
     ]
    },
    {
     "data": {
      "image/png": "[encoded data removed]",
      "text/plain": [
       "<Figure size 432x288 with 2 Axes>"
      ]
     },
     "metadata": {
      "needs_background": "light"
     },
     "output_type": "display_data"
    }
   ],
   "source": [
    "pred=y_pred[0]\n",
    "imgIA = Image.new('RGBA', (800,600),\"blue\" )\n",
    "draw = ImageDraw.Draw(imgIA)\n",
    "draw.ellipse([round(pred[0]-pred[2]),round(pred[1]-pred[2]),round(pred[0]+pred[2]),round(pred[1]+pred[2])], fill = 'white', outline ='black', width=5)\n",
    "draw.ellipse([round(pred[0]-pred[3]),round(pred[1]-pred[3]),round(pred[0]+pred[3]),round(pred[1]+pred[3])], fill = None, outline ='white', width=5)\n",
    "imgPre = tf.keras.preprocessing.image.img_to_array(imgIA, data_format=None, dtype=None)\n",
    "show_sample2(img,imgPre)"
   ]
  },
  {
   "cell_type": "code",
   "execution_count": 24,
   "metadata": {},
   "outputs": [
    {
     "name": "stderr",
     "output_type": "stream",
     "text": [
      "Clipping input data to the valid range for imshow with RGB data ([0..1] for floats or [0..255] for integers).\n",
      "Clipping input data to the valid range for imshow with RGB data ([0..1] for floats or [0..255] for integers).\n",
      "Clipping input data to the valid range for imshow with RGB data ([0..1] for floats or [0..255] for integers).\n"
     ]
    },
    {
     "name": "stdout",
     "output_type": "stream",
     "text": [
      "Prédiction :  [[522.86005 104.63508  64.8618   99.98768]]\n",
      "Image :  (524.5, 103.5) 65.5 101.5\n",
      "Wall time: 135 ms\n"
     ]
    },
    {
     "data": {
      "image/png": "[encoded data removed]",
      "text/plain": [
       "<Figure size 432x288 with 1 Axes>"
      ]
     },
     "metadata": {
      "needs_background": "light"
     },
     "output_type": "display_data"
    },
    {
     "data": {
      "image/png": "[encoded data removed]",
      "text/plain": [
       "<Figure size 432x288 with 2 Axes>"
      ]
     },
     "metadata": {
      "needs_background": "light"
     },
     "output_type": "display_data"
    }
   ],
   "source": [
    "%%time\n",
    "cercleT = tr.createCercle((800,600),True)\n",
    "\n",
    "img = tf.keras.preprocessing.image.load_img(\"../../Assets/imgAiTrainer/cercle.png\",target_size=(120,160))\n",
    "img = keras.preprocessing.image.img_to_array(img)\n",
    "show_sample(img)\n",
    "imgIa = np.expand_dims(img, axis=0)\n",
    "imgIa.shape\n",
    "\n",
    "y_pred = model.predict(imgIa)\n",
    "print(\"Prédiction : \",y_pred)\n",
    "print(\"Image : \",cercleT[0],cercleT[1],cercleT[2])\n",
    "pred=y_pred[0]\n",
    "imgIA = Image.new('RGBA', (800,600),\"blue\" )\n",
    "draw = ImageDraw.Draw(imgIA)\n",
    "draw.ellipse([round(pred[0]-pred[2]),round(pred[1]-pred[2]),round(pred[0]+pred[2]),round(pred[1]+pred[2])], fill = 'white', outline ='black', width=5)\n",
    "draw.ellipse([round(pred[0]-pred[3]),round(pred[1]-pred[3]),round(pred[0]+pred[3]),round(pred[1]+pred[3])], fill = None, outline ='white', width=5)\n",
    "imgPre = tf.keras.preprocessing.image.img_to_array(imgIA, data_format=None, dtype=None)\n",
    "show_sample2(img,imgPre)"
   ]
  },
  {
   "cell_type": "code",
   "execution_count": null,
   "metadata": {},
   "outputs": [],
   "source": []
  }
 ],
 "metadata": {
  "kernelspec": {
   "display_name": "Python 3",
   "language": "python",
   "name": "python3"
  },
  "language_info": {
   "codemirror_mode": {
    "name": "ipython",
    "version": 3
   },
   "file_extension": ".py",
   "mimetype": "text/x-python",
   "name": "python",
   "nbconvert_exporter": "python",
   "pygments_lexer": "ipython3",
   "version": "3.8.5"
  }
 },
 "nbformat": 4,
 "nbformat_minor": 2
}
