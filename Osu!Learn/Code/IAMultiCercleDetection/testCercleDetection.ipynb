{
 "metadata": {
  "language_info": {
   "codemirror_mode": {
    "name": "ipython",
    "version": 3
   },
   "file_extension": ".py",
   "mimetype": "text/x-python",
   "name": "python",
   "nbconvert_exporter": "python",
   "pygments_lexer": "ipython3",
   "version": "3.8.0-final"
  },
  "orig_nbformat": 2,
  "kernelspec": {
   "name": "python3",
   "display_name": "Python 3.8.0 64-bit ('osu': conda)",
   "metadata": {
    "interpreter": {
     "hash": "09371cbcebec12964f9af641f924af6ff5384df423163cbd84e6724699574da9"
    }
   }
  }
 },
 "nbformat": 4,
 "nbformat_minor": 2,
 "cells": [
  {
   "cell_type": "code",
   "execution_count": 1,
   "metadata": {},
   "outputs": [
    {
     "output_type": "execute_result",
     "data": {
      "text/plain": [
       "0"
      ]
     },
     "metadata": {},
     "execution_count": 1
    }
   ],
   "source": [
    "import os\n",
    "\n",
    "os.system(\"python setup.py build_ext --inplace\")"
   ]
  },
  {
   "cell_type": "code",
   "execution_count": 37,
   "metadata": {},
   "outputs": [],
   "source": [
    "from tensorflow import keras\n",
    "import tensorflow as tf\n",
    "from keras_retinanet import models\n",
    "import keras_retinanet\n",
    "from keras_retinanet.preprocessing.trainClasse import OsuGenerator\n",
    "import numpy as np\n",
    "from PIL import Image, ImageDraw\n",
    "import matplotlib.pyplot as plt\n",
    "\n",
    "sys.path.append('..')\n",
    "from utilitaire.imgAiTrainer.imgAiTrainer import Trainer\n",
    "tr = Trainer()\n",
    "\n",
    "os.environ[\"CUDA_VISIBLE_DEVICES\"] = \"-1\"\n"
   ]
  },
  {
   "cell_type": "code",
   "execution_count": 38,
   "metadata": {},
   "outputs": [],
   "source": [
    "def generateDataSet(nb,x,y) :\n",
    "    lImg = []\n",
    "    lLabel = []\n",
    "    lBox = []\n",
    "    for j in range(nb):\n",
    "        cercleT = tr.createMultiCercle((x,y),3)\n",
    "        img = tf.keras.preprocessing.image.load_img(\"../../Assets/imgAiTrainer/cercle.png\",target_size=(120,160))\n",
    "        img = keras.preprocessing.image.img_to_array(img)\n",
    "        lImg.append(img)\n",
    "        lLabelTmp = []\n",
    "        lBoxTmp = []\n",
    "        box2 = np.empty((len(cercleT[0]),4))\n",
    "        for i in range(len(cercleT[0])):\n",
    "            box = np.zeros((4,))\n",
    "            box[0] = (cercleT[0][i-1]-cercleT[3][i-1])/5\n",
    "            box[1] = (cercleT[1][i-1]-cercleT[3][i-1])/5\n",
    "            box[2] = (cercleT[0][i-1]+cercleT[3][i-1])/5\n",
    "            box[3] = (cercleT[1][i-1]+cercleT[3][i-1])/5\n",
    "            box2[i, :] = box\n",
    "            #lBoxTmp.append((cercleT[0][i-1]-cercleT[3][i-1],cercleT[1][i-1]-cercleT[3][i-1],cercleT[0][i-1]+cercleT[3][i-1],cercleT[1][i-1]+cercleT[3][i-1]))\n",
    "            lLabelTmp.append(0)\n",
    "        lLabel.append(np.array(lLabelTmp))\n",
    "        lBox.append(box2)\n",
    "    lImg = np.array(lImg)\n",
    "    lLabel = np.array(lLabel)\n",
    "    return lImg, lBox, lLabel"
   ]
  },
  {
   "cell_type": "code",
   "execution_count": 39,
   "metadata": {
    "tags": []
   },
   "outputs": [],
   "source": [
    "model = models.backbone('resnet50').retinanet(num_classes=3)\n",
    "#model.summary()"
   ]
  },
  {
   "cell_type": "code",
   "execution_count": 40,
   "metadata": {
    "tags": []
   },
   "outputs": [],
   "source": [
    "model.compile(\n",
    "    loss={\n",
    "        'regression'    : keras_retinanet.losses.smooth_l1(),\n",
    "        'classification': keras_retinanet.losses.focal()\n",
    "    },\n",
    "    optimizer=keras.optimizers.Adam(lr=1e-5, clipnorm=0.001)\n",
    ")\n",
    "#model.summary()"
   ]
  },
  {
   "cell_type": "code",
   "execution_count": 41,
   "metadata": {},
   "outputs": [],
   "source": [
    "img, box, labels = generateDataSet(1000,800,600)"
   ]
  },
  {
   "cell_type": "code",
   "execution_count": 42,
   "metadata": {},
   "outputs": [
    {
     "output_type": "stream",
     "name": "stdout",
     "text": [
      "[[ 67.8   9.4 112.4  54. ]\n [108.6  21.  143.6  56. ]\n [ 89.8   4.8 127.6  42.6]]\n[0 0 0]\n"
     ]
    },
    {
     "output_type": "execute_result",
     "data": {
      "text/plain": [
       "(3, 4)"
      ]
     },
     "metadata": {},
     "execution_count": 42
    }
   ],
   "source": [
    "print(box[0])\n",
    "print(labels[0])\n",
    "box[0].shape"
   ]
  },
  {
   "cell_type": "code",
   "execution_count": 43,
   "metadata": {},
   "outputs": [
    {
     "output_type": "stream",
     "name": "stdout",
     "text": [
      "Epoch 1/10\n",
      "WARNING:tensorflow:Unresolved object in checkpoint: (root).optimizer\n",
      "WARNING:tensorflow:Unresolved object in checkpoint: (root).loss\n",
      "WARNING:tensorflow:Unresolved object in checkpoint: (root).optimizer.iter\n",
      "WARNING:tensorflow:Unresolved object in checkpoint: (root).optimizer.beta_1\n",
      "WARNING:tensorflow:Unresolved object in checkpoint: (root).optimizer.beta_2\n",
      "WARNING:tensorflow:Unresolved object in checkpoint: (root).optimizer.decay\n",
      "WARNING:tensorflow:Unresolved object in checkpoint: (root).optimizer.learning_rate\n",
      "WARNING:tensorflow:Unresolved object in checkpoint: (root).optimizer's state 'm' for (root).layer_with_weights-0.kernel\n",
      "WARNING:tensorflow:Unresolved object in checkpoint: (root).optimizer's state 'm' for (root).layer_with_weights-2.kernel\n",
      "WARNING:tensorflow:Unresolved object in checkpoint: (root).optimizer's state 'm' for (root).layer_with_weights-4.kernel\n",
      "WARNING:tensorflow:Unresolved object in checkpoint: (root).optimizer's state 'm' for (root).layer_with_weights-6.kernel\n",
      "WARNING:tensorflow:Unresolved object in checkpoint: (root).optimizer's state 'm' for (root).layer_with_weights-7.kernel\n",
      "WARNING:tensorflow:Unresolved object in checkpoint: (root).optimizer's state 'm' for (root).layer_with_weights-10.kernel\n",
      "WARNING:tensorflow:Unresolved object in checkpoint: (root).optimizer's state 'm' for (root).layer_with_weights-12.kernel\n",
      "WARNING:tensorflow:Unresolved object in checkpoint: (root).optimizer's state 'm' for (root).layer_with_weights-14.kernel\n",
      "WARNING:tensorflow:Unresolved object in checkpoint: (root).optimizer's state 'm' for (root).layer_with_weights-16.kernel\n",
      "WARNING:tensorflow:Unresolved object in checkpoint: (root).optimizer's state 'm' for (root).layer_with_weights-18.kernel\n",
      "WARNING:tensorflow:Unresolved object in checkpoint: (root).optimizer's state 'm' for (root).layer_with_weights-20.kernel\n",
      "WARNING:tensorflow:Unresolved object in checkpoint: (root).optimizer's state 'm' for (root).layer_with_weights-22.kernel\n",
      "WARNING:tensorflow:Unresolved object in checkpoint: (root).optimizer's state 'm' for (root).layer_with_weights-24.kernel\n",
      "WARNING:tensorflow:Unresolved object in checkpoint: (root).optimizer's state 'm' for (root).layer_with_weights-26.kernel\n",
      "WARNING:tensorflow:Unresolved object in checkpoint: (root).optimizer's state 'm' for (root).layer_with_weights-27.kernel\n",
      "WARNING:tensorflow:Unresolved object in checkpoint: (root).optimizer's state 'm' for (root).layer_with_weights-30.kernel\n",
      "WARNING:tensorflow:Unresolved object in checkpoint: (root).optimizer's state 'm' for (root).layer_with_weights-32.kernel\n",
      "WARNING:tensorflow:Unresolved object in checkpoint: (root).optimizer's state 'm' for (root).layer_with_weights-34.kernel\n",
      "WARNING:tensorflow:Unresolved object in checkpoint: (root).optimizer's state 'm' for (root).layer_with_weights-36.kernel\n",
      "WARNING:tensorflow:Unresolved object in checkpoint: (root).optimizer's state 'm' for (root).layer_with_weights-38.kernel\n",
      "WARNING:tensorflow:Unresolved object in checkpoint: (root).optimizer's state 'm' for (root).layer_with_weights-40.kernel\n",
      "WARNING:tensorflow:Unresolved object in checkpoint: (root).optimizer's state 'm' for (root).layer_with_weights-42.kernel\n",
      "WARNING:tensorflow:Unresolved object in checkpoint: (root).optimizer's state 'm' for (root).layer_with_weights-44.kernel\n",
      "WARNING:tensorflow:Unresolved object in checkpoint: (root).optimizer's state 'm' for (root).layer_with_weights-46.kernel\n",
      "WARNING:tensorflow:Unresolved object in checkpoint: (root).optimizer's state 'm' for (root).layer_with_weights-48.kernel\n",
      "WARNING:tensorflow:Unresolved object in checkpoint: (root).optimizer's state 'm' for (root).layer_with_weights-50.kernel\n",
      "WARNING:tensorflow:Unresolved object in checkpoint: (root).optimizer's state 'm' for (root).layer_with_weights-52.kernel\n",
      "WARNING:tensorflow:Unresolved object in checkpoint: (root).optimizer's state 'm' for (root).layer_with_weights-53.kernel\n",
      "WARNING:tensorflow:Unresolved object in checkpoint: (root).optimizer's state 'm' for (root).layer_with_weights-56.kernel\n",
      "WARNING:tensorflow:Unresolved object in checkpoint: (root).optimizer's state 'm' for (root).layer_with_weights-58.kernel\n",
      "WARNING:tensorflow:Unresolved object in checkpoint: (root).optimizer's state 'm' for (root).layer_with_weights-60.kernel\n",
      "WARNING:tensorflow:Unresolved object in checkpoint: (root).optimizer's state 'm' for (root).layer_with_weights-62.kernel\n",
      "WARNING:tensorflow:Unresolved object in checkpoint: (root).optimizer's state 'm' for (root).layer_with_weights-64.kernel\n",
      "WARNING:tensorflow:Unresolved object in checkpoint: (root).optimizer's state 'm' for (root).layer_with_weights-66.kernel\n",
      "WARNING:tensorflow:Unresolved object in checkpoint: (root).optimizer's state 'm' for (root).layer_with_weights-68.kernel\n",
      "WARNING:tensorflow:Unresolved object in checkpoint: (root).optimizer's state 'm' for (root).layer_with_weights-70.kernel\n",
      "WARNING:tensorflow:Unresolved object in checkpoint: (root).optimizer's state 'm' for (root).layer_with_weights-72.kernel\n",
      "WARNING:tensorflow:Unresolved object in checkpoint: (root).optimizer's state 'm' for (root).layer_with_weights-74.kernel\n",
      "WARNING:tensorflow:Unresolved object in checkpoint: (root).optimizer's state 'm' for (root).layer_with_weights-76.kernel\n",
      "WARNING:tensorflow:Unresolved object in checkpoint: (root).optimizer's state 'm' for (root).layer_with_weights-78.kernel\n",
      "WARNING:tensorflow:Unresolved object in checkpoint: (root).optimizer's state 'm' for (root).layer_with_weights-80.kernel\n",
      "WARNING:tensorflow:Unresolved object in checkpoint: (root).optimizer's state 'm' for (root).layer_with_weights-82.kernel\n",
      "WARNING:tensorflow:Unresolved object in checkpoint: (root).optimizer's state 'm' for (root).layer_with_weights-84.kernel\n",
      "WARNING:tensorflow:Unresolved object in checkpoint: (root).optimizer's state 'm' for (root).layer_with_weights-86.kernel\n",
      "WARNING:tensorflow:Unresolved object in checkpoint: (root).optimizer's state 'm' for (root).layer_with_weights-88.kernel\n",
      "WARNING:tensorflow:Unresolved object in checkpoint: (root).optimizer's state 'm' for (root).layer_with_weights-90.kernel\n",
      "WARNING:tensorflow:Unresolved object in checkpoint: (root).optimizer's state 'm' for (root).layer_with_weights-91.kernel\n",
      "WARNING:tensorflow:Unresolved object in checkpoint: (root).optimizer's state 'm' for (root).layer_with_weights-94.kernel\n",
      "WARNING:tensorflow:Unresolved object in checkpoint: (root).optimizer's state 'm' for (root).layer_with_weights-96.kernel\n",
      "WARNING:tensorflow:Unresolved object in checkpoint: (root).optimizer's state 'm' for (root).layer_with_weights-98.kernel\n",
      "WARNING:tensorflow:Unresolved object in checkpoint: (root).optimizer's state 'm' for (root).layer_with_weights-100.kernel\n",
      "WARNING:tensorflow:Unresolved object in checkpoint: (root).optimizer's state 'm' for (root).layer_with_weights-102.kernel\n",
      "WARNING:tensorflow:Unresolved object in checkpoint: (root).optimizer's state 'm' for (root).layer_with_weights-104.kernel\n",
      "WARNING:tensorflow:Unresolved object in checkpoint: (root).optimizer's state 'm' for (root).layer_with_weights-106.kernel\n",
      "WARNING:tensorflow:Unresolved object in checkpoint: (root).optimizer's state 'm' for (root).layer_with_weights-106.bias\n",
      "WARNING:tensorflow:Unresolved object in checkpoint: (root).optimizer's state 'm' for (root).layer_with_weights-107.kernel\n",
      "WARNING:tensorflow:Unresolved object in checkpoint: (root).optimizer's state 'm' for (root).layer_with_weights-107.bias\n",
      "WARNING:tensorflow:Unresolved object in checkpoint: (root).optimizer's state 'm' for (root).layer_with_weights-108.kernel\n",
      "WARNING:tensorflow:Unresolved object in checkpoint: (root).optimizer's state 'm' for (root).layer_with_weights-108.bias\n",
      "WARNING:tensorflow:Unresolved object in checkpoint: (root).optimizer's state 'm' for (root).layer_with_weights-109.kernel\n",
      "WARNING:tensorflow:Unresolved object in checkpoint: (root).optimizer's state 'm' for (root).layer_with_weights-109.bias\n",
      "WARNING:tensorflow:Unresolved object in checkpoint: (root).optimizer's state 'm' for (root).layer_with_weights-110.kernel\n",
      "WARNING:tensorflow:Unresolved object in checkpoint: (root).optimizer's state 'm' for (root).layer_with_weights-110.bias\n",
      "WARNING:tensorflow:Unresolved object in checkpoint: (root).optimizer's state 'm' for (root).layer_with_weights-111.kernel\n",
      "WARNING:tensorflow:Unresolved object in checkpoint: (root).optimizer's state 'm' for (root).layer_with_weights-111.bias\n",
      "WARNING:tensorflow:Unresolved object in checkpoint: (root).optimizer's state 'm' for (root).layer_with_weights-112.kernel\n",
      "WARNING:tensorflow:Unresolved object in checkpoint: (root).optimizer's state 'm' for (root).layer_with_weights-112.bias\n",
      "WARNING:tensorflow:Unresolved object in checkpoint: (root).optimizer's state 'm' for (root).layer_with_weights-113.kernel\n",
      "WARNING:tensorflow:Unresolved object in checkpoint: (root).optimizer's state 'm' for (root).layer_with_weights-113.bias\n",
      "WARNING:tensorflow:Unresolved object in checkpoint: (root).optimizer's state 'm' for (root).layer_with_weights-114.layer_with_weights-0.kernel\n",
      "WARNING:tensorflow:Unresolved object in checkpoint: (root).optimizer's state 'm' for (root).layer_with_weights-114.layer_with_weights-0.bias\n",
      "WARNING:tensorflow:Unresolved object in checkpoint: (root).optimizer's state 'm' for (root).layer_with_weights-114.layer_with_weights-1.kernel\n",
      "WARNING:tensorflow:Unresolved object in checkpoint: (root).optimizer's state 'm' for (root).layer_with_weights-114.layer_with_weights-1.bias\n",
      "WARNING:tensorflow:Unresolved object in checkpoint: (root).optimizer's state 'm' for (root).layer_with_weights-114.layer_with_weights-2.kernel\n",
      "WARNING:tensorflow:Unresolved object in checkpoint: (root).optimizer's state 'm' for (root).layer_with_weights-114.layer_with_weights-2.bias\n",
      "WARNING:tensorflow:Unresolved object in checkpoint: (root).optimizer's state 'm' for (root).layer_with_weights-114.layer_with_weights-3.kernel\n",
      "WARNING:tensorflow:Unresolved object in checkpoint: (root).optimizer's state 'm' for (root).layer_with_weights-114.layer_with_weights-3.bias\n",
      "WARNING:tensorflow:Unresolved object in checkpoint: (root).optimizer's state 'm' for (root).layer_with_weights-114.layer_with_weights-4.kernel\n",
      "WARNING:tensorflow:Unresolved object in checkpoint: (root).optimizer's state 'm' for (root).layer_with_weights-114.layer_with_weights-4.bias\n",
      "WARNING:tensorflow:Unresolved object in checkpoint: (root).optimizer's state 'm' for (root).layer_with_weights-115.layer_with_weights-0.kernel\n",
      "WARNING:tensorflow:Unresolved object in checkpoint: (root).optimizer's state 'm' for (root).layer_with_weights-115.layer_with_weights-0.bias\n",
      "WARNING:tensorflow:Unresolved object in checkpoint: (root).optimizer's state 'm' for (root).layer_with_weights-115.layer_with_weights-1.kernel\n",
      "WARNING:tensorflow:Unresolved object in checkpoint: (root).optimizer's state 'm' for (root).layer_with_weights-115.layer_with_weights-1.bias\n",
      "WARNING:tensorflow:Unresolved object in checkpoint: (root).optimizer's state 'm' for (root).layer_with_weights-115.layer_with_weights-2.kernel\n",
      "WARNING:tensorflow:Unresolved object in checkpoint: (root).optimizer's state 'm' for (root).layer_with_weights-115.layer_with_weights-2.bias\n",
      "WARNING:tensorflow:Unresolved object in checkpoint: (root).optimizer's state 'm' for (root).layer_with_weights-115.layer_with_weights-3.kernel\n",
      "WARNING:tensorflow:Unresolved object in checkpoint: (root).optimizer's state 'm' for (root).layer_with_weights-115.layer_with_weights-3.bias\n",
      "WARNING:tensorflow:Unresolved object in checkpoint: (root).optimizer's state 'm' for (root).layer_with_weights-115.layer_with_weights-4.kernel\n",
      "WARNING:tensorflow:Unresolved object in checkpoint: (root).optimizer's state 'm' for (root).layer_with_weights-115.layer_with_weights-4.bias\n",
      "WARNING:tensorflow:Unresolved object in checkpoint: (root).optimizer's state 'v' for (root).layer_with_weights-0.kernel\n",
      "WARNING:tensorflow:Unresolved object in checkpoint: (root).optimizer's state 'v' for (root).layer_with_weights-2.kernel\n",
      "WARNING:tensorflow:Unresolved object in checkpoint: (root).optimizer's state 'v' for (root).layer_with_weights-4.kernel\n",
      "WARNING:tensorflow:Unresolved object in checkpoint: (root).optimizer's state 'v' for (root).layer_with_weights-6.kernel\n",
      "WARNING:tensorflow:Unresolved object in checkpoint: (root).optimizer's state 'v' for (root).layer_with_weights-7.kernel\n",
      "WARNING:tensorflow:Unresolved object in checkpoint: (root).optimizer's state 'v' for (root).layer_with_weights-10.kernel\n",
      "WARNING:tensorflow:Unresolved object in checkpoint: (root).optimizer's state 'v' for (root).layer_with_weights-12.kernel\n",
      "WARNING:tensorflow:Unresolved object in checkpoint: (root).optimizer's state 'v' for (root).layer_with_weights-14.kernel\n",
      "WARNING:tensorflow:Unresolved object in checkpoint: (root).optimizer's state 'v' for (root).layer_with_weights-16.kernel\n",
      "WARNING:tensorflow:Unresolved object in checkpoint: (root).optimizer's state 'v' for (root).layer_with_weights-18.kernel\n",
      "WARNING:tensorflow:Unresolved object in checkpoint: (root).optimizer's state 'v' for (root).layer_with_weights-20.kernel\n",
      "WARNING:tensorflow:Unresolved object in checkpoint: (root).optimizer's state 'v' for (root).layer_with_weights-22.kernel\n",
      "WARNING:tensorflow:Unresolved object in checkpoint: (root).optimizer's state 'v' for (root).layer_with_weights-24.kernel\n",
      "WARNING:tensorflow:Unresolved object in checkpoint: (root).optimizer's state 'v' for (root).layer_with_weights-26.kernel\n",
      "WARNING:tensorflow:Unresolved object in checkpoint: (root).optimizer's state 'v' for (root).layer_with_weights-27.kernel\n",
      "WARNING:tensorflow:Unresolved object in checkpoint: (root).optimizer's state 'v' for (root).layer_with_weights-30.kernel\n",
      "WARNING:tensorflow:Unresolved object in checkpoint: (root).optimizer's state 'v' for (root).layer_with_weights-32.kernel\n",
      "WARNING:tensorflow:Unresolved object in checkpoint: (root).optimizer's state 'v' for (root).layer_with_weights-34.kernel\n",
      "WARNING:tensorflow:Unresolved object in checkpoint: (root).optimizer's state 'v' for (root).layer_with_weights-36.kernel\n",
      "WARNING:tensorflow:Unresolved object in checkpoint: (root).optimizer's state 'v' for (root).layer_with_weights-38.kernel\n",
      "WARNING:tensorflow:Unresolved object in checkpoint: (root).optimizer's state 'v' for (root).layer_with_weights-40.kernel\n",
      "WARNING:tensorflow:Unresolved object in checkpoint: (root).optimizer's state 'v' for (root).layer_with_weights-42.kernel\n",
      "WARNING:tensorflow:Unresolved object in checkpoint: (root).optimizer's state 'v' for (root).layer_with_weights-44.kernel\n",
      "WARNING:tensorflow:Unresolved object in checkpoint: (root).optimizer's state 'v' for (root).layer_with_weights-46.kernel\n",
      "WARNING:tensorflow:Unresolved object in checkpoint: (root).optimizer's state 'v' for (root).layer_with_weights-48.kernel\n",
      "WARNING:tensorflow:Unresolved object in checkpoint: (root).optimizer's state 'v' for (root).layer_with_weights-50.kernel\n",
      "WARNING:tensorflow:Unresolved object in checkpoint: (root).optimizer's state 'v' for (root).layer_with_weights-52.kernel\n",
      "WARNING:tensorflow:Unresolved object in checkpoint: (root).optimizer's state 'v' for (root).layer_with_weights-53.kernel\n",
      "WARNING:tensorflow:Unresolved object in checkpoint: (root).optimizer's state 'v' for (root).layer_with_weights-56.kernel\n",
      "WARNING:tensorflow:Unresolved object in checkpoint: (root).optimizer's state 'v' for (root).layer_with_weights-58.kernel\n",
      "WARNING:tensorflow:Unresolved object in checkpoint: (root).optimizer's state 'v' for (root).layer_with_weights-60.kernel\n",
      "WARNING:tensorflow:Unresolved object in checkpoint: (root).optimizer's state 'v' for (root).layer_with_weights-62.kernel\n",
      "WARNING:tensorflow:Unresolved object in checkpoint: (root).optimizer's state 'v' for (root).layer_with_weights-64.kernel\n",
      "WARNING:tensorflow:Unresolved object in checkpoint: (root).optimizer's state 'v' for (root).layer_with_weights-66.kernel\n",
      "WARNING:tensorflow:Unresolved object in checkpoint: (root).optimizer's state 'v' for (root).layer_with_weights-68.kernel\n",
      "WARNING:tensorflow:Unresolved object in checkpoint: (root).optimizer's state 'v' for (root).layer_with_weights-70.kernel\n",
      "WARNING:tensorflow:Unresolved object in checkpoint: (root).optimizer's state 'v' for (root).layer_with_weights-72.kernel\n",
      "WARNING:tensorflow:Unresolved object in checkpoint: (root).optimizer's state 'v' for (root).layer_with_weights-74.kernel\n",
      "WARNING:tensorflow:Unresolved object in checkpoint: (root).optimizer's state 'v' for (root).layer_with_weights-76.kernel\n",
      "WARNING:tensorflow:Unresolved object in checkpoint: (root).optimizer's state 'v' for (root).layer_with_weights-78.kernel\n",
      "WARNING:tensorflow:Unresolved object in checkpoint: (root).optimizer's state 'v' for (root).layer_with_weights-80.kernel\n",
      "WARNING:tensorflow:Unresolved object in checkpoint: (root).optimizer's state 'v' for (root).layer_with_weights-82.kernel\n",
      "WARNING:tensorflow:Unresolved object in checkpoint: (root).optimizer's state 'v' for (root).layer_with_weights-84.kernel\n",
      "WARNING:tensorflow:Unresolved object in checkpoint: (root).optimizer's state 'v' for (root).layer_with_weights-86.kernel\n",
      "WARNING:tensorflow:Unresolved object in checkpoint: (root).optimizer's state 'v' for (root).layer_with_weights-88.kernel\n",
      "WARNING:tensorflow:Unresolved object in checkpoint: (root).optimizer's state 'v' for (root).layer_with_weights-90.kernel\n",
      "WARNING:tensorflow:Unresolved object in checkpoint: (root).optimizer's state 'v' for (root).layer_with_weights-91.kernel\n",
      "WARNING:tensorflow:Unresolved object in checkpoint: (root).optimizer's state 'v' for (root).layer_with_weights-94.kernel\n",
      "WARNING:tensorflow:Unresolved object in checkpoint: (root).optimizer's state 'v' for (root).layer_with_weights-96.kernel\n",
      "WARNING:tensorflow:Unresolved object in checkpoint: (root).optimizer's state 'v' for (root).layer_with_weights-98.kernel\n",
      "WARNING:tensorflow:Unresolved object in checkpoint: (root).optimizer's state 'v' for (root).layer_with_weights-100.kernel\n",
      "WARNING:tensorflow:Unresolved object in checkpoint: (root).optimizer's state 'v' for (root).layer_with_weights-102.kernel\n",
      "WARNING:tensorflow:Unresolved object in checkpoint: (root).optimizer's state 'v' for (root).layer_with_weights-104.kernel\n",
      "WARNING:tensorflow:Unresolved object in checkpoint: (root).optimizer's state 'v' for (root).layer_with_weights-106.kernel\n",
      "WARNING:tensorflow:Unresolved object in checkpoint: (root).optimizer's state 'v' for (root).layer_with_weights-106.bias\n",
      "WARNING:tensorflow:Unresolved object in checkpoint: (root).optimizer's state 'v' for (root).layer_with_weights-107.kernel\n",
      "WARNING:tensorflow:Unresolved object in checkpoint: (root).optimizer's state 'v' for (root).layer_with_weights-107.bias\n",
      "WARNING:tensorflow:Unresolved object in checkpoint: (root).optimizer's state 'v' for (root).layer_with_weights-108.kernel\n",
      "WARNING:tensorflow:Unresolved object in checkpoint: (root).optimizer's state 'v' for (root).layer_with_weights-108.bias\n",
      "WARNING:tensorflow:Unresolved object in checkpoint: (root).optimizer's state 'v' for (root).layer_with_weights-109.kernel\n",
      "WARNING:tensorflow:Unresolved object in checkpoint: (root).optimizer's state 'v' for (root).layer_with_weights-109.bias\n",
      "WARNING:tensorflow:Unresolved object in checkpoint: (root).optimizer's state 'v' for (root).layer_with_weights-110.kernel\n",
      "WARNING:tensorflow:Unresolved object in checkpoint: (root).optimizer's state 'v' for (root).layer_with_weights-110.bias\n",
      "WARNING:tensorflow:Unresolved object in checkpoint: (root).optimizer's state 'v' for (root).layer_with_weights-111.kernel\n",
      "WARNING:tensorflow:Unresolved object in checkpoint: (root).optimizer's state 'v' for (root).layer_with_weights-111.bias\n",
      "WARNING:tensorflow:Unresolved object in checkpoint: (root).optimizer's state 'v' for (root).layer_with_weights-112.kernel\n",
      "WARNING:tensorflow:Unresolved object in checkpoint: (root).optimizer's state 'v' for (root).layer_with_weights-112.bias\n",
      "WARNING:tensorflow:Unresolved object in checkpoint: (root).optimizer's state 'v' for (root).layer_with_weights-113.kernel\n",
      "WARNING:tensorflow:Unresolved object in checkpoint: (root).optimizer's state 'v' for (root).layer_with_weights-113.bias\n",
      "WARNING:tensorflow:Unresolved object in checkpoint: (root).optimizer's state 'v' for (root).layer_with_weights-114.layer_with_weights-0.kernel\n",
      "WARNING:tensorflow:Unresolved object in checkpoint: (root).optimizer's state 'v' for (root).layer_with_weights-114.layer_with_weights-0.bias\n",
      "WARNING:tensorflow:Unresolved object in checkpoint: (root).optimizer's state 'v' for (root).layer_with_weights-114.layer_with_weights-1.kernel\n",
      "WARNING:tensorflow:Unresolved object in checkpoint: (root).optimizer's state 'v' for (root).layer_with_weights-114.layer_with_weights-1.bias\n",
      "WARNING:tensorflow:Unresolved object in checkpoint: (root).optimizer's state 'v' for (root).layer_with_weights-114.layer_with_weights-2.kernel\n",
      "WARNING:tensorflow:Unresolved object in checkpoint: (root).optimizer's state 'v' for (root).layer_with_weights-114.layer_with_weights-2.bias\n",
      "WARNING:tensorflow:Unresolved object in checkpoint: (root).optimizer's state 'v' for (root).layer_with_weights-114.layer_with_weights-3.kernel\n",
      "WARNING:tensorflow:Unresolved object in checkpoint: (root).optimizer's state 'v' for (root).layer_with_weights-114.layer_with_weights-3.bias\n",
      "WARNING:tensorflow:Unresolved object in checkpoint: (root).optimizer's state 'v' for (root).layer_with_weights-114.layer_with_weights-4.kernel\n",
      "WARNING:tensorflow:Unresolved object in checkpoint: (root).optimizer's state 'v' for (root).layer_with_weights-114.layer_with_weights-4.bias\n",
      "WARNING:tensorflow:Unresolved object in checkpoint: (root).optimizer's state 'v' for (root).layer_with_weights-115.layer_with_weights-0.kernel\n",
      "WARNING:tensorflow:Unresolved object in checkpoint: (root).optimizer's state 'v' for (root).layer_with_weights-115.layer_with_weights-0.bias\n",
      "WARNING:tensorflow:Unresolved object in checkpoint: (root).optimizer's state 'v' for (root).layer_with_weights-115.layer_with_weights-1.kernel\n",
      "WARNING:tensorflow:Unresolved object in checkpoint: (root).optimizer's state 'v' for (root).layer_with_weights-115.layer_with_weights-1.bias\n",
      "WARNING:tensorflow:Unresolved object in checkpoint: (root).optimizer's state 'v' for (root).layer_with_weights-115.layer_with_weights-2.kernel\n",
      "WARNING:tensorflow:Unresolved object in checkpoint: (root).optimizer's state 'v' for (root).layer_with_weights-115.layer_with_weights-2.bias\n",
      "WARNING:tensorflow:Unresolved object in checkpoint: (root).optimizer's state 'v' for (root).layer_with_weights-115.layer_with_weights-3.kernel\n",
      "WARNING:tensorflow:Unresolved object in checkpoint: (root).optimizer's state 'v' for (root).layer_with_weights-115.layer_with_weights-3.bias\n",
      "WARNING:tensorflow:Unresolved object in checkpoint: (root).optimizer's state 'v' for (root).layer_with_weights-115.layer_with_weights-4.kernel\n",
      "WARNING:tensorflow:Unresolved object in checkpoint: (root).optimizer's state 'v' for (root).layer_with_weights-115.layer_with_weights-4.bias\n",
      "WARNING:tensorflow:A checkpoint was restored (e.g. tf.train.Checkpoint.restore or tf.keras.Model.load_weights) but not all checkpointed values were used. See above for specific issues. Use expect_partial() on the load status object, e.g. tf.train.Checkpoint.restore(...).expect_partial(), to silence these warnings, or use assert_consumed() to make the check explicit. See https://www.tensorflow.org/guide/checkpoint#loading_mechanics for details.\n",
      " 1/50 [..............................] - ETA: 15:13 - loss: 7.3808e-07 - regression_loss: 0.0000e+00 - classification_loss: 7.3808e-07WARNING:tensorflow:Your input ran out of data; interrupting training. Make sure that your dataset or generator can generate at least `steps_per_epoch * epochs` batches (in this case, 500 batches). You may need to use the repeat() function when building your dataset.\n",
      "50/50 [==============================] - 19s 244us/step - loss: 7.3808e-07 - regression_loss: 0.0000e+00 - classification_loss: 7.3808e-07\n"
     ]
    },
    {
     "output_type": "execute_result",
     "data": {
      "text/plain": [
       "<tensorflow.python.keras.callbacks.History at 0x266d183db20>"
      ]
     },
     "metadata": {},
     "execution_count": 43
    }
   ],
   "source": [
    "model.load_weights('save/poids/model')\n",
    "trainGenerator = OsuGenerator(img, box, labels)\n",
    "model.fit_generator(\n",
    "        generator = trainGenerator,\n",
    "        steps_per_epoch=50,\n",
    "        epochs=10,\n",
    "        verbose=1\n",
    "    )"
   ]
  },
  {
   "cell_type": "code",
   "execution_count": 44,
   "metadata": {},
   "outputs": [],
   "source": [
    "model.save_weights('save/poids/model')\n"
   ]
  },
  {
   "cell_type": "code",
   "execution_count": 45,
   "metadata": {},
   "outputs": [
    {
     "output_type": "stream",
     "name": "stderr",
     "text": [
      "Clipping input data to the valid range for imshow with RGB data ([0..1] for floats or [0..255] for integers).\n",
      "[0. 0. 0.]\n"
     ]
    },
    {
     "output_type": "display_data",
     "data": {
      "text/plain": "<Figure size 432x288 with 1 Axes>",
      "image/svg+xml": "<?xml version=\"1.0\" encoding=\"utf-8\" standalone=\"no\"?>\r\n<!DOCTYPE svg PUBLIC \"-//W3C//DTD SVG 1.1//EN\"\r\n  \"http://www.w3.org/Graphics/SVG/1.1/DTD/svg11.dtd\">\r\n<!-- Created with matplotlib (https://matplotlib.org/) -->\r\n<svg height=\"251.411344pt\" version=\"1.1\" viewBox=\"0 0 330.4075 251.411344\" width=\"330.4075pt\" xmlns=\"http://www.w3.org/2000/svg\" xmlns:xlink=\"http://www.w3.org/1999/xlink\">\r\n <metadata>\r\n  <rdf:RDF xmlns:cc=\"http://creativecommons.org/ns#\" xmlns:dc=\"http://purl.org/dc/elements/1.1/\" xmlns:rdf=\"http://www.w3.org/1999/02/22-rdf-syntax-ns#\">\r\n   <cc:Work>\r\n    <dc:type rdf:resource=\"http://purl.org/dc/dcmitype/StillImage\"/>\r\n    <dc:date>2021-03-14T23:56:01.070297</dc:date>\r\n    <dc:format>image/svg+xml</dc:format>\r\n    <dc:creator>\r\n     <cc:Agent>\r\n      <dc:title>Matplotlib v3.3.2, https://matplotlib.org/</dc:title>\r\n     </cc:Agent>\r\n    </dc:creator>\r\n   </cc:Work>\r\n  </rdf:RDF>\r\n </metadata>\r\n <defs>\r\n  <style type=\"text/css\">*{stroke-linecap:butt;stroke-linejoin:round;}</style>\r\n </defs>\r\n <g id=\"figure_1\">\r\n  <g id=\"patch_1\">\r\n   <path d=\"M 0 251.411344 \r\nL 330.4075 251.411344 \r\nL 330.4075 0 \r\nL 0 0 \r\nz\r\n\" style=\"fill:none;\"/>\r\n  </g>\r\n  <g id=\"axes_1\">\r\n   <g id=\"patch_2\">\r\n    <path d=\"M 33.2875 227.533219 \r\nL 323.2075 227.533219 \r\nL 323.2075 10.093219 \r\nL 33.2875 10.093219 \r\nz\r\n\" style=\"fill:#ffffff;\"/>\r\n   </g>\r\n   <g clip-path=\"url(#pc8d9c68e3a)\">\r\n    <image height=\"218\" id=\"imagef6c35ff1eb\" transform=\"scale(1 -1)translate(0 -218)\" width=\"290\" x=\"33.2875\" xlink:href=\"data:image/png;base64,\r\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\" y=\"-9.533219\"/>\r\n   </g>\r\n   <g id=\"matplotlib.axis_1\">\r\n    <g id=\"xtick_1\">\r\n     <g id=\"line2d_1\">\r\n      <defs>\r\n       <path d=\"M 0 0 \r\nL 0 3.5 \r\n\" id=\"m3f71f8b897\" style=\"stroke:#000000;stroke-width:0.8;\"/>\r\n      </defs>\r\n      <g>\r\n       <use style=\"stroke:#000000;stroke-width:0.8;\" x=\"34.1935\" xlink:href=\"#m3f71f8b897\" y=\"227.533219\"/>\r\n      </g>\r\n     </g>\r\n     <g id=\"text_1\">\r\n      <!-- 0 -->\r\n      <g transform=\"translate(31.01225 242.131656)scale(0.1 -0.1)\">\r\n       <defs>\r\n        <path d=\"M 31.78125 66.40625 \r\nQ 24.171875 66.40625 20.328125 58.90625 \r\nQ 16.5 51.421875 16.5 36.375 \r\nQ 16.5 21.390625 20.328125 13.890625 \r\nQ 24.171875 6.390625 31.78125 6.390625 \r\nQ 39.453125 6.390625 43.28125 13.890625 \r\nQ 47.125 21.390625 47.125 36.375 \r\nQ 47.125 51.421875 43.28125 58.90625 \r\nQ 39.453125 66.40625 31.78125 66.40625 \r\nz\r\nM 31.78125 74.21875 \r\nQ 44.046875 74.21875 50.515625 64.515625 \r\nQ 56.984375 54.828125 56.984375 36.375 \r\nQ 56.984375 17.96875 50.515625 8.265625 \r\nQ 44.046875 -1.421875 31.78125 -1.421875 \r\nQ 19.53125 -1.421875 13.0625 8.265625 \r\nQ 6.59375 17.96875 6.59375 36.375 \r\nQ 6.59375 54.828125 13.0625 64.515625 \r\nQ 19.53125 74.21875 31.78125 74.21875 \r\nz\r\n\" id=\"DejaVuSans-48\"/>\r\n       </defs>\r\n       <use xlink:href=\"#DejaVuSans-48\"/>\r\n      </g>\r\n     </g>\r\n    </g>\r\n    <g id=\"xtick_2\">\r\n     <g id=\"line2d_2\">\r\n      <g>\r\n       <use style=\"stroke:#000000;stroke-width:0.8;\" x=\"70.4335\" xlink:href=\"#m3f71f8b897\" y=\"227.533219\"/>\r\n      </g>\r\n     </g>\r\n     <g id=\"text_2\">\r\n      <!-- 20 -->\r\n      <g transform=\"translate(64.071 242.131656)scale(0.1 -0.1)\">\r\n       <defs>\r\n        <path d=\"M 19.1875 8.296875 \r\nL 53.609375 8.296875 \r\nL 53.609375 0 \r\nL 7.328125 0 \r\nL 7.328125 8.296875 \r\nQ 12.9375 14.109375 22.625 23.890625 \r\nQ 32.328125 33.6875 34.8125 36.53125 \r\nQ 39.546875 41.84375 41.421875 45.53125 \r\nQ 43.3125 49.21875 43.3125 52.78125 \r\nQ 43.3125 58.59375 39.234375 62.25 \r\nQ 35.15625 65.921875 28.609375 65.921875 \r\nQ 23.96875 65.921875 18.8125 64.3125 \r\nQ 13.671875 62.703125 7.8125 59.421875 \r\nL 7.8125 69.390625 \r\nQ 13.765625 71.78125 18.9375 73 \r\nQ 24.125 74.21875 28.421875 74.21875 \r\nQ 39.75 74.21875 46.484375 68.546875 \r\nQ 53.21875 62.890625 53.21875 53.421875 \r\nQ 53.21875 48.921875 51.53125 44.890625 \r\nQ 49.859375 40.875 45.40625 35.40625 \r\nQ 44.1875 33.984375 37.640625 27.21875 \r\nQ 31.109375 20.453125 19.1875 8.296875 \r\nz\r\n\" id=\"DejaVuSans-50\"/>\r\n       </defs>\r\n       <use xlink:href=\"#DejaVuSans-50\"/>\r\n       <use x=\"63.623047\" xlink:href=\"#DejaVuSans-48\"/>\r\n      </g>\r\n     </g>\r\n    </g>\r\n    <g id=\"xtick_3\">\r\n     <g id=\"line2d_3\">\r\n      <g>\r\n       <use style=\"stroke:#000000;stroke-width:0.8;\" x=\"106.6735\" xlink:href=\"#m3f71f8b897\" y=\"227.533219\"/>\r\n      </g>\r\n     </g>\r\n     <g id=\"text_3\">\r\n      <!-- 40 -->\r\n      <g transform=\"translate(100.311 242.131656)scale(0.1 -0.1)\">\r\n       <defs>\r\n        <path d=\"M 37.796875 64.3125 \r\nL 12.890625 25.390625 \r\nL 37.796875 25.390625 \r\nz\r\nM 35.203125 72.90625 \r\nL 47.609375 72.90625 \r\nL 47.609375 25.390625 \r\nL 58.015625 25.390625 \r\nL 58.015625 17.1875 \r\nL 47.609375 17.1875 \r\nL 47.609375 0 \r\nL 37.796875 0 \r\nL 37.796875 17.1875 \r\nL 4.890625 17.1875 \r\nL 4.890625 26.703125 \r\nz\r\n\" id=\"DejaVuSans-52\"/>\r\n       </defs>\r\n       <use xlink:href=\"#DejaVuSans-52\"/>\r\n       <use x=\"63.623047\" xlink:href=\"#DejaVuSans-48\"/>\r\n      </g>\r\n     </g>\r\n    </g>\r\n    <g id=\"xtick_4\">\r\n     <g id=\"line2d_4\">\r\n      <g>\r\n       <use style=\"stroke:#000000;stroke-width:0.8;\" x=\"142.9135\" xlink:href=\"#m3f71f8b897\" y=\"227.533219\"/>\r\n      </g>\r\n     </g>\r\n     <g id=\"text_4\">\r\n      <!-- 60 -->\r\n      <g transform=\"translate(136.551 242.131656)scale(0.1 -0.1)\">\r\n       <defs>\r\n        <path d=\"M 33.015625 40.375 \r\nQ 26.375 40.375 22.484375 35.828125 \r\nQ 18.609375 31.296875 18.609375 23.390625 \r\nQ 18.609375 15.53125 22.484375 10.953125 \r\nQ 26.375 6.390625 33.015625 6.390625 \r\nQ 39.65625 6.390625 43.53125 10.953125 \r\nQ 47.40625 15.53125 47.40625 23.390625 \r\nQ 47.40625 31.296875 43.53125 35.828125 \r\nQ 39.65625 40.375 33.015625 40.375 \r\nz\r\nM 52.59375 71.296875 \r\nL 52.59375 62.3125 \r\nQ 48.875 64.0625 45.09375 64.984375 \r\nQ 41.3125 65.921875 37.59375 65.921875 \r\nQ 27.828125 65.921875 22.671875 59.328125 \r\nQ 17.53125 52.734375 16.796875 39.40625 \r\nQ 19.671875 43.65625 24.015625 45.921875 \r\nQ 28.375 48.1875 33.59375 48.1875 \r\nQ 44.578125 48.1875 50.953125 41.515625 \r\nQ 57.328125 34.859375 57.328125 23.390625 \r\nQ 57.328125 12.15625 50.6875 5.359375 \r\nQ 44.046875 -1.421875 33.015625 -1.421875 \r\nQ 20.359375 -1.421875 13.671875 8.265625 \r\nQ 6.984375 17.96875 6.984375 36.375 \r\nQ 6.984375 53.65625 15.1875 63.9375 \r\nQ 23.390625 74.21875 37.203125 74.21875 \r\nQ 40.921875 74.21875 44.703125 73.484375 \r\nQ 48.484375 72.75 52.59375 71.296875 \r\nz\r\n\" id=\"DejaVuSans-54\"/>\r\n       </defs>\r\n       <use xlink:href=\"#DejaVuSans-54\"/>\r\n       <use x=\"63.623047\" xlink:href=\"#DejaVuSans-48\"/>\r\n      </g>\r\n     </g>\r\n    </g>\r\n    <g id=\"xtick_5\">\r\n     <g id=\"line2d_5\">\r\n      <g>\r\n       <use style=\"stroke:#000000;stroke-width:0.8;\" x=\"179.1535\" xlink:href=\"#m3f71f8b897\" y=\"227.533219\"/>\r\n      </g>\r\n     </g>\r\n     <g id=\"text_5\">\r\n      <!-- 80 -->\r\n      <g transform=\"translate(172.791 242.131656)scale(0.1 -0.1)\">\r\n       <defs>\r\n        <path d=\"M 31.78125 34.625 \r\nQ 24.75 34.625 20.71875 30.859375 \r\nQ 16.703125 27.09375 16.703125 20.515625 \r\nQ 16.703125 13.921875 20.71875 10.15625 \r\nQ 24.75 6.390625 31.78125 6.390625 \r\nQ 38.8125 6.390625 42.859375 10.171875 \r\nQ 46.921875 13.96875 46.921875 20.515625 \r\nQ 46.921875 27.09375 42.890625 30.859375 \r\nQ 38.875 34.625 31.78125 34.625 \r\nz\r\nM 21.921875 38.8125 \r\nQ 15.578125 40.375 12.03125 44.71875 \r\nQ 8.5 49.078125 8.5 55.328125 \r\nQ 8.5 64.0625 14.71875 69.140625 \r\nQ 20.953125 74.21875 31.78125 74.21875 \r\nQ 42.671875 74.21875 48.875 69.140625 \r\nQ 55.078125 64.0625 55.078125 55.328125 \r\nQ 55.078125 49.078125 51.53125 44.71875 \r\nQ 48 40.375 41.703125 38.8125 \r\nQ 48.828125 37.15625 52.796875 32.3125 \r\nQ 56.78125 27.484375 56.78125 20.515625 \r\nQ 56.78125 9.90625 50.3125 4.234375 \r\nQ 43.84375 -1.421875 31.78125 -1.421875 \r\nQ 19.734375 -1.421875 13.25 4.234375 \r\nQ 6.78125 9.90625 6.78125 20.515625 \r\nQ 6.78125 27.484375 10.78125 32.3125 \r\nQ 14.796875 37.15625 21.921875 38.8125 \r\nz\r\nM 18.3125 54.390625 \r\nQ 18.3125 48.734375 21.84375 45.5625 \r\nQ 25.390625 42.390625 31.78125 42.390625 \r\nQ 38.140625 42.390625 41.71875 45.5625 \r\nQ 45.3125 48.734375 45.3125 54.390625 \r\nQ 45.3125 60.0625 41.71875 63.234375 \r\nQ 38.140625 66.40625 31.78125 66.40625 \r\nQ 25.390625 66.40625 21.84375 63.234375 \r\nQ 18.3125 60.0625 18.3125 54.390625 \r\nz\r\n\" id=\"DejaVuSans-56\"/>\r\n       </defs>\r\n       <use xlink:href=\"#DejaVuSans-56\"/>\r\n       <use x=\"63.623047\" xlink:href=\"#DejaVuSans-48\"/>\r\n      </g>\r\n     </g>\r\n    </g>\r\n    <g id=\"xtick_6\">\r\n     <g id=\"line2d_6\">\r\n      <g>\r\n       <use style=\"stroke:#000000;stroke-width:0.8;\" x=\"215.3935\" xlink:href=\"#m3f71f8b897\" y=\"227.533219\"/>\r\n      </g>\r\n     </g>\r\n     <g id=\"text_6\">\r\n      <!-- 100 -->\r\n      <g transform=\"translate(205.84975 242.131656)scale(0.1 -0.1)\">\r\n       <defs>\r\n        <path d=\"M 12.40625 8.296875 \r\nL 28.515625 8.296875 \r\nL 28.515625 63.921875 \r\nL 10.984375 60.40625 \r\nL 10.984375 69.390625 \r\nL 28.421875 72.90625 \r\nL 38.28125 72.90625 \r\nL 38.28125 8.296875 \r\nL 54.390625 8.296875 \r\nL 54.390625 0 \r\nL 12.40625 0 \r\nz\r\n\" id=\"DejaVuSans-49\"/>\r\n       </defs>\r\n       <use xlink:href=\"#DejaVuSans-49\"/>\r\n       <use x=\"63.623047\" xlink:href=\"#DejaVuSans-48\"/>\r\n       <use x=\"127.246094\" xlink:href=\"#DejaVuSans-48\"/>\r\n      </g>\r\n     </g>\r\n    </g>\r\n    <g id=\"xtick_7\">\r\n     <g id=\"line2d_7\">\r\n      <g>\r\n       <use style=\"stroke:#000000;stroke-width:0.8;\" x=\"251.6335\" xlink:href=\"#m3f71f8b897\" y=\"227.533219\"/>\r\n      </g>\r\n     </g>\r\n     <g id=\"text_7\">\r\n      <!-- 120 -->\r\n      <g transform=\"translate(242.08975 242.131656)scale(0.1 -0.1)\">\r\n       <use xlink:href=\"#DejaVuSans-49\"/>\r\n       <use x=\"63.623047\" xlink:href=\"#DejaVuSans-50\"/>\r\n       <use x=\"127.246094\" xlink:href=\"#DejaVuSans-48\"/>\r\n      </g>\r\n     </g>\r\n    </g>\r\n    <g id=\"xtick_8\">\r\n     <g id=\"line2d_8\">\r\n      <g>\r\n       <use style=\"stroke:#000000;stroke-width:0.8;\" x=\"287.8735\" xlink:href=\"#m3f71f8b897\" y=\"227.533219\"/>\r\n      </g>\r\n     </g>\r\n     <g id=\"text_8\">\r\n      <!-- 140 -->\r\n      <g transform=\"translate(278.32975 242.131656)scale(0.1 -0.1)\">\r\n       <use xlink:href=\"#DejaVuSans-49\"/>\r\n       <use x=\"63.623047\" xlink:href=\"#DejaVuSans-52\"/>\r\n       <use x=\"127.246094\" xlink:href=\"#DejaVuSans-48\"/>\r\n      </g>\r\n     </g>\r\n    </g>\r\n   </g>\r\n   <g id=\"matplotlib.axis_2\">\r\n    <g id=\"ytick_1\">\r\n     <g id=\"line2d_9\">\r\n      <defs>\r\n       <path d=\"M 0 0 \r\nL -3.5 0 \r\n\" id=\"me819c9b22c\" style=\"stroke:#000000;stroke-width:0.8;\"/>\r\n      </defs>\r\n      <g>\r\n       <use style=\"stroke:#000000;stroke-width:0.8;\" x=\"33.2875\" xlink:href=\"#me819c9b22c\" y=\"10.999219\"/>\r\n      </g>\r\n     </g>\r\n     <g id=\"text_9\">\r\n      <!-- 0 -->\r\n      <g transform=\"translate(19.925 14.798438)scale(0.1 -0.1)\">\r\n       <use xlink:href=\"#DejaVuSans-48\"/>\r\n      </g>\r\n     </g>\r\n    </g>\r\n    <g id=\"ytick_2\">\r\n     <g id=\"line2d_10\">\r\n      <g>\r\n       <use style=\"stroke:#000000;stroke-width:0.8;\" x=\"33.2875\" xlink:href=\"#me819c9b22c\" y=\"47.239219\"/>\r\n      </g>\r\n     </g>\r\n     <g id=\"text_10\">\r\n      <!-- 20 -->\r\n      <g transform=\"translate(13.5625 51.038438)scale(0.1 -0.1)\">\r\n       <use xlink:href=\"#DejaVuSans-50\"/>\r\n       <use x=\"63.623047\" xlink:href=\"#DejaVuSans-48\"/>\r\n      </g>\r\n     </g>\r\n    </g>\r\n    <g id=\"ytick_3\">\r\n     <g id=\"line2d_11\">\r\n      <g>\r\n       <use style=\"stroke:#000000;stroke-width:0.8;\" x=\"33.2875\" xlink:href=\"#me819c9b22c\" y=\"83.479219\"/>\r\n      </g>\r\n     </g>\r\n     <g id=\"text_11\">\r\n      <!-- 40 -->\r\n      <g transform=\"translate(13.5625 87.278438)scale(0.1 -0.1)\">\r\n       <use xlink:href=\"#DejaVuSans-52\"/>\r\n       <use x=\"63.623047\" xlink:href=\"#DejaVuSans-48\"/>\r\n      </g>\r\n     </g>\r\n    </g>\r\n    <g id=\"ytick_4\">\r\n     <g id=\"line2d_12\">\r\n      <g>\r\n       <use style=\"stroke:#000000;stroke-width:0.8;\" x=\"33.2875\" xlink:href=\"#me819c9b22c\" y=\"119.719219\"/>\r\n      </g>\r\n     </g>\r\n     <g id=\"text_12\">\r\n      <!-- 60 -->\r\n      <g transform=\"translate(13.5625 123.518438)scale(0.1 -0.1)\">\r\n       <use xlink:href=\"#DejaVuSans-54\"/>\r\n       <use x=\"63.623047\" xlink:href=\"#DejaVuSans-48\"/>\r\n      </g>\r\n     </g>\r\n    </g>\r\n    <g id=\"ytick_5\">\r\n     <g id=\"line2d_13\">\r\n      <g>\r\n       <use style=\"stroke:#000000;stroke-width:0.8;\" x=\"33.2875\" xlink:href=\"#me819c9b22c\" y=\"155.959219\"/>\r\n      </g>\r\n     </g>\r\n     <g id=\"text_13\">\r\n      <!-- 80 -->\r\n      <g transform=\"translate(13.5625 159.758438)scale(0.1 -0.1)\">\r\n       <use xlink:href=\"#DejaVuSans-56\"/>\r\n       <use x=\"63.623047\" xlink:href=\"#DejaVuSans-48\"/>\r\n      </g>\r\n     </g>\r\n    </g>\r\n    <g id=\"ytick_6\">\r\n     <g id=\"line2d_14\">\r\n      <g>\r\n       <use style=\"stroke:#000000;stroke-width:0.8;\" x=\"33.2875\" xlink:href=\"#me819c9b22c\" y=\"192.199219\"/>\r\n      </g>\r\n     </g>\r\n     <g id=\"text_14\">\r\n      <!-- 100 -->\r\n      <g transform=\"translate(7.2 195.998438)scale(0.1 -0.1)\">\r\n       <use xlink:href=\"#DejaVuSans-49\"/>\r\n       <use x=\"63.623047\" xlink:href=\"#DejaVuSans-48\"/>\r\n       <use x=\"127.246094\" xlink:href=\"#DejaVuSans-48\"/>\r\n      </g>\r\n     </g>\r\n    </g>\r\n   </g>\r\n   <g id=\"patch_3\">\r\n    <path d=\"M 33.2875 227.533219 \r\nL 33.2875 10.093219 \r\n\" style=\"fill:none;stroke:#000000;stroke-linecap:square;stroke-linejoin:miter;stroke-width:0.8;\"/>\r\n   </g>\r\n   <g id=\"patch_4\">\r\n    <path d=\"M 323.2075 227.533219 \r\nL 323.2075 10.093219 \r\n\" style=\"fill:none;stroke:#000000;stroke-linecap:square;stroke-linejoin:miter;stroke-width:0.8;\"/>\r\n   </g>\r\n   <g id=\"patch_5\">\r\n    <path d=\"M 33.2875 227.533219 \r\nL 323.2075 227.533219 \r\n\" style=\"fill:none;stroke:#000000;stroke-linecap:square;stroke-linejoin:miter;stroke-width:0.8;\"/>\r\n   </g>\r\n   <g id=\"patch_6\">\r\n    <path d=\"M 33.2875 10.093219 \r\nL 323.2075 10.093219 \r\n\" style=\"fill:none;stroke:#000000;stroke-linecap:square;stroke-linejoin:miter;stroke-width:0.8;\"/>\r\n   </g>\r\n  </g>\r\n </g>\r\n <defs>\r\n  <clipPath id=\"pc8d9c68e3a\">\r\n   <rect height=\"217.44\" width=\"289.92\" x=\"33.2875\" y=\"10.093219\"/>\r\n  </clipPath>\r\n </defs>\r\n</svg>\r\n",
      "image/png": "[encoded data removed]"
     },
     "metadata": {
      "needs_background": "light"
     }
    }
   ],
   "source": [
    "def show_sample(img):\n",
    "  figure, axis = plt.subplots(1,1)\n",
    "  axis.imshow(img)\n",
    "\n",
    "tr = Trainer()\n",
    "#cercleT = tr.createMultiCercle((800,600),3)\n",
    "\n",
    "image = tf.keras.preprocessing.image.load_img(\"../../Assets/imgAiTrainer/multiCercle.png\",target_size=(120,160))\n",
    "image = keras.preprocessing.image.img_to_array(image)\n",
    "print(image[30][65])\n",
    "show_sample(image)"
   ]
  },
  {
   "cell_type": "code",
   "execution_count": 46,
   "metadata": {},
   "outputs": [
    {
     "output_type": "stream",
     "name": "stdout",
     "text": [
      "WARNING:tensorflow:7 out of the last 7 calls to <function Model.make_predict_function.<locals>.predict_function at 0x00000266E8D15790> triggered tf.function retracing. Tracing is expensive and the excessive number of tracings could be due to (1) creating @tf.function repeatedly in a loop, (2) passing tensors with different shapes, (3) passing Python objects instead of tensors. For (1), please define your @tf.function outside of the loop. For (2), @tf.function has experimental_relax_shapes=True option that relaxes argument shapes that can avoid unnecessary retracing. For (3), please refer to https://www.tensorflow.org/guide/function#controlling_retracing and https://www.tensorflow.org/api_docs/python/tf/function for  more details.\n"
     ]
    }
   ],
   "source": [
    "model = models.backbone('resnet50').retinanet(num_classes=3)\n",
    "model.load_weights('save/poids/model')\n",
    "resultat1,resultat2=model.predict_on_batch(np.expand_dims(image, axis=0))\n",
    "\n"
   ]
  },
  {
   "cell_type": "code",
   "execution_count": 47,
   "metadata": {},
   "outputs": [
    {
     "output_type": "stream",
     "name": "stdout",
     "text": [
      "[-0.11318041  0.37042844 -0.5219214   0.18937786] [0.0008848  0.00070217 0.00110275]\n"
     ]
    }
   ],
   "source": [
    "print(resultat1[0][0],resultat2[0][0])"
   ]
  },
  {
   "cell_type": "code",
   "execution_count": 48,
   "metadata": {},
   "outputs": [],
   "source": [
    "# correct for image scale\n",
    "#boxes /= scale\n",
    "\n",
    "img = Image.open(\"../../Assets/imgAiTrainer/multiCercle.png\")\n",
    "# visualize detections\n",
    "for box, label in zip(resultat1[0], resultat2[0]):\n",
    "    # scores are sorted so we can break\n",
    "     draw = ImageDraw.Draw(img)\n",
    "     draw.rectangle([box[0],box[1],box[2],box[3]], fill=None, outline='red', width=5)\n",
    "img.show()\n"
   ]
  },
  {
   "cell_type": "code",
   "execution_count": null,
   "metadata": {},
   "outputs": [],
   "source": []
  }
 ]
}